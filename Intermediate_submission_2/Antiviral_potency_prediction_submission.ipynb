{
 "cells": [
  {
   "cell_type": "markdown",
   "id": "f3e51057-9432-4574-9ee5-69760ecd806d",
   "metadata": {},
   "source": [
    "# Ligand ADMET and Potency (Property Prediction)\n",
    "\n",
    "The [ADMET](https://polarishub.io/competitions/asap-discovery/antiviral-admet-2025) and [Potency](https://polarishub.io/competitions/asap-discovery/antiviral-potency-2025) Challenge of the [ASAP Discovery competition](https://polarishub.io/blog/antiviral-competition) take the shape of a property prediction task. Given the SMILES (or, to be more precise, the CXSMILES) of a molecule, you are asked to predict the numerical properties of said molecule. This is a relatively straight-forward application of ML and this notebook will quickly get you up and running!\n",
    "\n",
    "To begin with, choose one of the two challenges! The code will look the same for both. "
   ]
  },
  {
   "cell_type": "code",
   "execution_count": 1,
   "id": "ba94f96e-10ba-46b6-8b1f-9fb333601b87",
   "metadata": {},
   "outputs": [
    {
     "name": "stderr",
     "output_type": "stream",
     "text": [
      "C:\\Users\\talag\\anaconda3\\envs\\pol\\Lib\\site-packages\\tqdm\\auto.py:21: TqdmWarning: IProgress not found. Please update jupyter and ipywidgets. See https://ipywidgets.readthedocs.io/en/stable/user_install.html\n",
      "  from .autonotebook import tqdm as notebook_tqdm\n"
     ]
    }
   ],
   "source": [
    "import polaris as po\n",
    "from polaris.hub.client import PolarisHubClient\n",
    "import csv"
   ]
  },
  {
   "cell_type": "code",
   "execution_count": 3,
   "id": "4f8e964a-a1f5-4237-ab75-fdc318bb265f",
   "metadata": {},
   "outputs": [
    {
     "data": {
      "text/html": [
       "<pre style=\"white-space:pre;overflow-x:auto;line-height:normal;font-family:Menlo,'DejaVu Sans Mono',consolas,'Courier New',monospace\"><span style=\"color: #7fbfbf; text-decoration-color: #7fbfbf\">[2025-02-26 12:23:21] </span><span style=\"color: #000080; text-decoration-color: #000080\">INFO    </span> Your browser has been opened to visit:                        <a href=\"file://C:\\Users\\talag\\anaconda3\\envs\\pol\\Lib\\site-packages\\polaris\\hub\\external_client.py\" target=\"_blank\"><span style=\"color: #7f7f7f; text-decoration-color: #7f7f7f\">external_client.py</span></a><span style=\"color: #7f7f7f; text-decoration-color: #7f7f7f\">:</span><a href=\"file://C:\\Users\\talag\\anaconda3\\envs\\pol\\Lib\\site-packages\\polaris\\hub\\external_client.py#149\" target=\"_blank\"><span style=\"color: #7f7f7f; text-decoration-color: #7f7f7f\">149</span></a>\n",
       "<span style=\"color: #7fbfbf; text-decoration-color: #7fbfbf\">                      </span>         <span style=\"color: #0000ff; text-decoration-color: #0000ff; text-decoration: underline\">https://clerk.polarishub.io/oauth/authorize?response_type=cod</span> <span style=\"color: #7f7f7f; text-decoration-color: #7f7f7f\">                      </span>\n",
       "<span style=\"color: #7fbfbf; text-decoration-color: #7fbfbf\">                      </span>         <span style=\"color: #0000ff; text-decoration-color: #0000ff; text-decoration: underline\">e&amp;client_id=agQP2xVM6JqMHvGc&amp;redirect_uri=https%3A%2F%2Fpolar</span> <span style=\"color: #7f7f7f; text-decoration-color: #7f7f7f\">                      </span>\n",
       "<span style=\"color: #7fbfbf; text-decoration-color: #7fbfbf\">                      </span>         <span style=\"color: #0000ff; text-decoration-color: #0000ff; text-decoration: underline\">ishub.io%2Foauth2%2Fcallback&amp;scope=profile+email&amp;state=mQReX1</span> <span style=\"color: #7f7f7f; text-decoration-color: #7f7f7f\">                      </span>\n",
       "<span style=\"color: #7fbfbf; text-decoration-color: #7fbfbf\">                      </span>         <span style=\"color: #0000ff; text-decoration-color: #0000ff; text-decoration: underline\">4ilYWpYkJOhWnRM0vpUKin1H&amp;code_challenge=96khClqLFkM1RPsoS32jL</span> <span style=\"color: #7f7f7f; text-decoration-color: #7f7f7f\">                      </span>\n",
       "<span style=\"color: #7fbfbf; text-decoration-color: #7fbfbf\">                      </span>         <span style=\"color: #0000ff; text-decoration-color: #0000ff; text-decoration: underline\">VziJqWDyMrg_lDqoJRzt8I&amp;code_challenge_method=S256</span>             <span style=\"color: #7f7f7f; text-decoration-color: #7f7f7f\">                      </span>\n",
       "<span style=\"color: #7fbfbf; text-decoration-color: #7fbfbf\">                      </span>                                                                       <span style=\"color: #7f7f7f; text-decoration-color: #7f7f7f\">                      </span>\n",
       "</pre>\n"
      ],
      "text/plain": [
       "\u001b[2;36m[2025-02-26 12:23:21]\u001b[0m\u001b[2;36m \u001b[0m\u001b[34mINFO    \u001b[0m Your browser has been opened to visit:                        \u001b]8;id=872027;file://C:\\Users\\talag\\anaconda3\\envs\\pol\\Lib\\site-packages\\polaris\\hub\\external_client.py\u001b\\\u001b[2mexternal_client.py\u001b[0m\u001b]8;;\u001b\\\u001b[2m:\u001b[0m\u001b]8;id=533669;file://C:\\Users\\talag\\anaconda3\\envs\\pol\\Lib\\site-packages\\polaris\\hub\\external_client.py#149\u001b\\\u001b[2m149\u001b[0m\u001b]8;;\u001b\\\n",
       "\u001b[2;36m                      \u001b[0m         \u001b[4;94mhttps://clerk.polarishub.io/oauth/authorize?\u001b[0m\u001b[4;94mresponse_type\u001b[0m\u001b[4;94m=\u001b[0m\u001b[4;94mcod\u001b[0m \u001b[2m                      \u001b[0m\n",
       "\u001b[2;36m                      \u001b[0m         \u001b[4;94me\u001b[0m\u001b[4;94m&\u001b[0m\u001b[4;94mclient_id\u001b[0m\u001b[4;94m=\u001b[0m\u001b[4;94magQP2xVM6JqMHvGc\u001b[0m\u001b[4;94m&\u001b[0m\u001b[4;94mredirect_uri\u001b[0m\u001b[4;94m=\u001b[0m\u001b[4;94mhttps\u001b[0m\u001b[4;94m%3A%2F%2Fpolar\u001b[0m \u001b[2m                      \u001b[0m\n",
       "\u001b[2;36m                      \u001b[0m         \u001b[4;94mishub.io%2Foauth2%2Fcallback&\u001b[0m\u001b[4;94mscope\u001b[0m\u001b[4;94m=\u001b[0m\u001b[4;94mprofile\u001b[0m\u001b[4;94m+email&\u001b[0m\u001b[4;94mstate\u001b[0m\u001b[4;94m=\u001b[0m\u001b[4;94mmQReX1\u001b[0m \u001b[2m                      \u001b[0m\n",
       "\u001b[2;36m                      \u001b[0m         \u001b[4;94m4ilYWpYkJOhWnRM0vpUKin1H\u001b[0m\u001b[4;94m&\u001b[0m\u001b[4;94mcode_challenge\u001b[0m\u001b[4;94m=\u001b[0m\u001b[4;94m96khClqLFkM1RPsoS32jL\u001b[0m \u001b[2m                      \u001b[0m\n",
       "\u001b[2;36m                      \u001b[0m         \u001b[4;94mVziJqWDyMrg_lDqoJRzt8I\u001b[0m\u001b[4;94m&\u001b[0m\u001b[4;94mcode_challenge_method\u001b[0m\u001b[4;94m=\u001b[0m\u001b[4;94mS256\u001b[0m             \u001b[2m                      \u001b[0m\n",
       "\u001b[2;36m                      \u001b[0m                                                                       \u001b[2m                      \u001b[0m\n"
      ]
     },
     "metadata": {},
     "output_type": "display_data"
    },
    {
     "name": "stdin",
     "output_type": "stream",
     "text": [
      "Please enter the authorization token:  MGIZZJCYYJCTZWQ2NI0ZM2U4LWIYMTMTNZCWMTQXMDDIMDKZ\n"
     ]
    },
    {
     "data": {
      "text/html": [
       "<pre style=\"white-space:pre;overflow-x:auto;line-height:normal;font-family:Menlo,'DejaVu Sans Mono',consolas,'Courier New',monospace\"><span style=\"color: #7fbfbf; text-decoration-color: #7fbfbf\">[2025-02-26 12:23:29] </span><span style=\"color: #000080; text-decoration-color: #000080\">INFO    </span> Successfully authenticated to the Polaris Hub as              <a href=\"file://C:\\Users\\talag\\anaconda3\\envs\\pol\\Lib\\site-packages\\polaris\\hub\\external_client.py\" target=\"_blank\"><span style=\"color: #7f7f7f; text-decoration-color: #7f7f7f\">external_client.py</span></a><span style=\"color: #7f7f7f; text-decoration-color: #7f7f7f\">:</span><a href=\"file://C:\\Users\\talag\\anaconda3\\envs\\pol\\Lib\\site-packages\\polaris\\hub\\external_client.py#160\" target=\"_blank\"><span style=\"color: #7f7f7f; text-decoration-color: #7f7f7f\">160</span></a>\n",
       "<span style=\"color: #7fbfbf; text-decoration-color: #7fbfbf\">                      </span>         `talagayv95@gmail.com`!                                       <span style=\"color: #7f7f7f; text-decoration-color: #7f7f7f\">                      </span>\n",
       "</pre>\n"
      ],
      "text/plain": [
       "\u001b[2;36m[2025-02-26 12:23:29]\u001b[0m\u001b[2;36m \u001b[0m\u001b[34mINFO    \u001b[0m Successfully authenticated to the Polaris Hub as              \u001b]8;id=584529;file://C:\\Users\\talag\\anaconda3\\envs\\pol\\Lib\\site-packages\\polaris\\hub\\external_client.py\u001b\\\u001b[2mexternal_client.py\u001b[0m\u001b]8;;\u001b\\\u001b[2m:\u001b[0m\u001b]8;id=35769;file://C:\\Users\\talag\\anaconda3\\envs\\pol\\Lib\\site-packages\\polaris\\hub\\external_client.py#160\u001b\\\u001b[2m160\u001b[0m\u001b]8;;\u001b\\\n",
       "\u001b[2;36m                      \u001b[0m         `talagayv95@gmail.com`!                                       \u001b[2m                      \u001b[0m\n"
      ]
     },
     "metadata": {},
     "output_type": "display_data"
    },
    {
     "data": {
      "text/html": [
       "<pre style=\"white-space:pre;overflow-x:auto;line-height:normal;font-family:Menlo,'DejaVu Sans Mono',consolas,'Courier New',monospace\"><span style=\"color: #7fbfbf; text-decoration-color: #7fbfbf\">[2025-02-26 12:23:30] </span><span style=\"color: #000080; text-decoration-color: #000080\">INFO    </span> You are successfully logged in to the Polaris Hub.                     <a href=\"file://C:\\Users\\talag\\anaconda3\\envs\\pol\\Lib\\site-packages\\polaris\\hub\\client.py\" target=\"_blank\"><span style=\"color: #7f7f7f; text-decoration-color: #7f7f7f\">client.py</span></a><span style=\"color: #7f7f7f; text-decoration-color: #7f7f7f\">:</span><a href=\"file://C:\\Users\\talag\\anaconda3\\envs\\pol\\Lib\\site-packages\\polaris\\hub\\client.py#253\" target=\"_blank\"><span style=\"color: #7f7f7f; text-decoration-color: #7f7f7f\">253</span></a>\n",
       "</pre>\n"
      ],
      "text/plain": [
       "\u001b[2;36m[2025-02-26 12:23:30]\u001b[0m\u001b[2;36m \u001b[0m\u001b[34mINFO    \u001b[0m You are successfully logged in to the Polaris Hub.                     \u001b]8;id=882753;file://C:\\Users\\talag\\anaconda3\\envs\\pol\\Lib\\site-packages\\polaris\\hub\\client.py\u001b\\\u001b[2mclient.py\u001b[0m\u001b]8;;\u001b\\\u001b[2m:\u001b[0m\u001b]8;id=598680;file://C:\\Users\\talag\\anaconda3\\envs\\pol\\Lib\\site-packages\\polaris\\hub\\client.py#253\u001b\\\u001b[2m253\u001b[0m\u001b]8;;\u001b\\\n"
      ]
     },
     "metadata": {},
     "output_type": "display_data"
    }
   ],
   "source": [
    "client = PolarisHubClient()\n",
    "client.login(overwrite=True)"
   ]
  },
  {
   "cell_type": "code",
   "execution_count": 4,
   "id": "c1e1f5a4-d7b4-41cc-a5fc-a657ca5fd6cf",
   "metadata": {},
   "outputs": [],
   "source": [
    "CHALLENGE = \"antiviral-potency-2025\"  # or: \"antiviral-potency-2025\""
   ]
  },
  {
   "cell_type": "markdown",
   "id": "2319bfb8-1fef-4294-a8f6-a225b7a95c09",
   "metadata": {},
   "source": [
    "## Load the competition\n",
    "\n",
    "Let's first load the competition from Polaris.\n",
    "\n",
    "Make sure you are logged in! If not, simply run `polaris login` and follow the instructions. "
   ]
  },
  {
   "cell_type": "code",
   "execution_count": 5,
   "id": "0a466c50-5408-4f72-840c-b467ca5f0f3f",
   "metadata": {},
   "outputs": [
    {
     "data": {
      "text/html": [
       "<pre style=\"white-space:pre;overflow-x:auto;line-height:normal;font-family:Menlo,'DejaVu Sans Mono',consolas,'Courier New',monospace\"><span style=\"color: #7fbfbf; text-decoration-color: #7fbfbf\">[2025-02-26 12:23:39] </span><span style=\"color: #000080; text-decoration-color: #000080\">INFO    </span> The version of Polaris that was used to create the artifact <span style=\"font-weight: bold\">(</span><span style=\"color: #008080; text-decoration-color: #008080; font-weight: bold\">0.11</span>.<span style=\"color: #008080; text-decoration-color: #008080; font-weight: bold\">0</span><span style=\"font-weight: bold\">)</span> <a href=\"file://C:\\Users\\talag\\anaconda3\\envs\\pol\\Lib\\site-packages\\polaris\\_artifact.py\" target=\"_blank\"><span style=\"color: #7f7f7f; text-decoration-color: #7f7f7f\">_artifact.py</span></a><span style=\"color: #7f7f7f; text-decoration-color: #7f7f7f\">:</span><a href=\"file://C:\\Users\\talag\\anaconda3\\envs\\pol\\Lib\\site-packages\\polaris\\_artifact.py#92\" target=\"_blank\"><span style=\"color: #7f7f7f; text-decoration-color: #7f7f7f\">92</span></a>\n",
       "<span style=\"color: #7fbfbf; text-decoration-color: #7fbfbf\">                      </span>         is different from the currently installed version of Polaris         <span style=\"color: #7f7f7f; text-decoration-color: #7f7f7f\">               </span>\n",
       "<span style=\"color: #7fbfbf; text-decoration-color: #7fbfbf\">                      </span>         <span style=\"font-weight: bold\">(</span><span style=\"color: #008080; text-decoration-color: #008080; font-weight: bold\">0.11</span>.<span style=\"color: #008080; text-decoration-color: #008080; font-weight: bold\">9</span><span style=\"font-weight: bold\">)</span>.                                                            <span style=\"color: #7f7f7f; text-decoration-color: #7f7f7f\">               </span>\n",
       "</pre>\n"
      ],
      "text/plain": [
       "\u001b[2;36m[2025-02-26 12:23:39]\u001b[0m\u001b[2;36m \u001b[0m\u001b[34mINFO    \u001b[0m The version of Polaris that was used to create the artifact \u001b[1m(\u001b[0m\u001b[1;36m0.11\u001b[0m.\u001b[1;36m0\u001b[0m\u001b[1m)\u001b[0m \u001b]8;id=236211;file://C:\\Users\\talag\\anaconda3\\envs\\pol\\Lib\\site-packages\\polaris\\_artifact.py\u001b\\\u001b[2m_artifact.py\u001b[0m\u001b]8;;\u001b\\\u001b[2m:\u001b[0m\u001b]8;id=492927;file://C:\\Users\\talag\\anaconda3\\envs\\pol\\Lib\\site-packages\\polaris\\_artifact.py#92\u001b\\\u001b[2m92\u001b[0m\u001b]8;;\u001b\\\n",
       "\u001b[2;36m                      \u001b[0m         is different from the currently installed version of Polaris         \u001b[2m               \u001b[0m\n",
       "\u001b[2;36m                      \u001b[0m         \u001b[1m(\u001b[0m\u001b[1;36m0.11\u001b[0m.\u001b[1;36m9\u001b[0m\u001b[1m)\u001b[0m.                                                            \u001b[2m               \u001b[0m\n"
      ]
     },
     "metadata": {},
     "output_type": "display_data"
    },
    {
     "data": {
      "text/html": [
       "<pre style=\"white-space:pre;overflow-x:auto;line-height:normal;font-family:Menlo,'DejaVu Sans Mono',consolas,'Courier New',monospace\"><span style=\"color: #7fbfbf; text-decoration-color: #7fbfbf\">                      </span><span style=\"color: #808000; text-decoration-color: #808000\">WARNING </span> You're loading data from a remote location. If the dataset is small     <a href=\"file://C:\\Users\\talag\\anaconda3\\envs\\pol\\Lib\\site-packages\\polaris\\dataset\\_base.py\" target=\"_blank\"><span style=\"color: #7f7f7f; text-decoration-color: #7f7f7f\">_base.py</span></a><span style=\"color: #7f7f7f; text-decoration-color: #7f7f7f\">:</span><a href=\"file://C:\\Users\\talag\\anaconda3\\envs\\pol\\Lib\\site-packages\\polaris\\dataset\\_base.py#181\" target=\"_blank\"><span style=\"color: #7f7f7f; text-decoration-color: #7f7f7f\">181</span></a>\n",
       "<span style=\"color: #7fbfbf; text-decoration-color: #7fbfbf\">                      </span>         enough, consider caching the dataset first using                        <span style=\"color: #7f7f7f; text-decoration-color: #7f7f7f\">            </span>\n",
       "<span style=\"color: #7fbfbf; text-decoration-color: #7fbfbf\">                      </span>         <span style=\"color: #800080; text-decoration-color: #800080; font-weight: bold\">CompetitionSpecification.cache</span><span style=\"font-weight: bold\">()</span> for more performant data access.       <span style=\"color: #7f7f7f; text-decoration-color: #7f7f7f\">            </span>\n",
       "</pre>\n"
      ],
      "text/plain": [
       "\u001b[2;36m                     \u001b[0m\u001b[2;36m \u001b[0m\u001b[33mWARNING \u001b[0m You're loading data from a remote location. If the dataset is small     \u001b]8;id=907094;file://C:\\Users\\talag\\anaconda3\\envs\\pol\\Lib\\site-packages\\polaris\\dataset\\_base.py\u001b\\\u001b[2m_base.py\u001b[0m\u001b]8;;\u001b\\\u001b[2m:\u001b[0m\u001b]8;id=939823;file://C:\\Users\\talag\\anaconda3\\envs\\pol\\Lib\\site-packages\\polaris\\dataset\\_base.py#181\u001b\\\u001b[2m181\u001b[0m\u001b]8;;\u001b\\\n",
       "\u001b[2;36m                      \u001b[0m         enough, consider caching the dataset first using                        \u001b[2m            \u001b[0m\n",
       "\u001b[2;36m                      \u001b[0m         \u001b[1;35mCompetitionSpecification.cache\u001b[0m\u001b[1m(\u001b[0m\u001b[1m)\u001b[0m for more performant data access.       \u001b[2m            \u001b[0m\n"
      ]
     },
     "metadata": {},
     "output_type": "display_data"
    }
   ],
   "source": [
    "import polaris as po\n",
    "\n",
    "competition = po.load_competition(f\"asap-discovery/{CHALLENGE}\")"
   ]
  },
  {
   "cell_type": "markdown",
   "id": "5478ab20-ed4b-4f7d-a5bb-3618748de65a",
   "metadata": {},
   "source": [
    "As suggested in the logs, we'll cache the dataset. Note that this is not strictly necessary, but it does speed up later steps."
   ]
  },
  {
   "cell_type": "code",
   "execution_count": 6,
   "id": "d44d7a37-2119-42cd-a7eb-41daf5687660",
   "metadata": {},
   "outputs": [
    {
     "data": {
      "text/html": [
       "<pre style=\"white-space:pre;overflow-x:auto;line-height:normal;font-family:Menlo,'DejaVu Sans Mono',consolas,'Courier New',monospace\">C:\\Users\\talag\\anaconda3\\envs\\pol\\Lib\\site-packages\\rich\\live.py:231: UserWarning: install \"ipywidgets\" for Jupyter\n",
       "support\n",
       "  warnings.warn('install \"ipywidgets\" for Jupyter support')\n",
       "</pre>\n"
      ],
      "text/plain": [
       "C:\\Users\\talag\\anaconda3\\envs\\pol\\Lib\\site-packages\\rich\\live.py:231: UserWarning: install \"ipywidgets\" for Jupyter\n",
       "support\n",
       "  warnings.warn('install \"ipywidgets\" for Jupyter support')\n"
      ]
     },
     "metadata": {},
     "output_type": "display_data"
    },
    {
     "data": {
      "text/html": [
       "<pre style=\"white-space:pre;overflow-x:auto;line-height:normal;font-family:Menlo,'DejaVu Sans Mono',consolas,'Courier New',monospace\"><span style=\"color: #7fbfbf; text-decoration-color: #7fbfbf\">[12:23:45] </span><span style=\"color: #008000; text-decoration-color: #008000\">Copying to destination </span>                                                                     <a href=\"file://C:\\Users\\talag\\anaconda3\\envs\\pol\\Lib\\site-packages\\polaris\\dataset\\_base.py\" target=\"_blank\"><span style=\"color: #7f7f7f; text-decoration-color: #7f7f7f\">_base.py</span></a><span style=\"color: #7f7f7f; text-decoration-color: #7f7f7f\">:</span><a href=\"file://C:\\Users\\talag\\anaconda3\\envs\\pol\\Lib\\site-packages\\polaris\\dataset\\_base.py#380\" target=\"_blank\"><span style=\"color: #7f7f7f; text-decoration-color: #7f7f7f\">380</span></a>\n",
       "<span style=\"color: #7fbfbf; text-decoration-color: #7fbfbf\">           </span><span style=\"color: #008000; text-decoration-color: #008000\">C:\\Users\\talag\\AppData\\Local\\polaris\\polaris\\Cache\\datasets\\</span><span style=\"color: #008000; text-decoration-color: #008000\">1afc91de-787c-4a11-90a6-1df588f</span> <span style=\"color: #7f7f7f; text-decoration-color: #7f7f7f\">            </span>\n",
       "<span style=\"color: #7fbfbf; text-decoration-color: #7fbfbf\">           </span><span style=\"color: #008000; text-decoration-color: #008000\">238ee</span><span style=\"color: #008000; text-decoration-color: #008000\">\\data.zarr</span>                                                                             <span style=\"color: #7f7f7f; text-decoration-color: #7f7f7f\">            </span>\n",
       "</pre>\n"
      ],
      "text/plain": [
       "\u001b[2;36m[12:23:45]\u001b[0m\u001b[2;36m \u001b[0m\u001b[32mCopying to destination \u001b[0m                                                                     \u001b]8;id=155404;file://C:\\Users\\talag\\anaconda3\\envs\\pol\\Lib\\site-packages\\polaris\\dataset\\_base.py\u001b\\\u001b[2m_base.py\u001b[0m\u001b]8;;\u001b\\\u001b[2m:\u001b[0m\u001b]8;id=742882;file://C:\\Users\\talag\\anaconda3\\envs\\pol\\Lib\\site-packages\\polaris\\dataset\\_base.py#380\u001b\\\u001b[2m380\u001b[0m\u001b]8;;\u001b\\\n",
       "\u001b[2;36m           \u001b[0m\u001b[32mC:\\Users\\talag\\AppData\\Local\\polaris\\polaris\\Cache\\datasets\\\u001b[0m\u001b[32m1afc91de-787c-4a11-90a6-1df588f\u001b[0m \u001b[2m            \u001b[0m\n",
       "\u001b[2;36m           \u001b[0m\u001b[32m238ee\u001b[0m\u001b[32m\\data.zarr\u001b[0m                                                                             \u001b[2m            \u001b[0m\n"
      ]
     },
     "metadata": {},
     "output_type": "display_data"
    },
    {
     "data": {
      "text/html": [
       "<pre style=\"white-space:pre;overflow-x:auto;line-height:normal;font-family:Menlo,'DejaVu Sans Mono',consolas,'Courier New',monospace\"><span style=\"color: #7fbfbf; text-decoration-color: #7fbfbf\">           </span><span style=\"color: #808000; text-decoration-color: #808000\">For large Zarr archives, this may take a while.</span>                                             <a href=\"file://C:\\Users\\talag\\anaconda3\\envs\\pol\\Lib\\site-packages\\polaris\\dataset\\_base.py\" target=\"_blank\"><span style=\"color: #7f7f7f; text-decoration-color: #7f7f7f\">_base.py</span></a><span style=\"color: #7f7f7f; text-decoration-color: #7f7f7f\">:</span><a href=\"file://C:\\Users\\talag\\anaconda3\\envs\\pol\\Lib\\site-packages\\polaris\\dataset\\_base.py#381\" target=\"_blank\"><span style=\"color: #7f7f7f; text-decoration-color: #7f7f7f\">381</span></a>\n",
       "</pre>\n"
      ],
      "text/plain": [
       "\u001b[2;36m          \u001b[0m\u001b[2;36m \u001b[0m\u001b[33mFor large Zarr archives, this may take a while.\u001b[0m                                             \u001b]8;id=820071;file://C:\\Users\\talag\\anaconda3\\envs\\pol\\Lib\\site-packages\\polaris\\dataset\\_base.py\u001b\\\u001b[2m_base.py\u001b[0m\u001b]8;;\u001b\\\u001b[2m:\u001b[0m\u001b]8;id=303464;file://C:\\Users\\talag\\anaconda3\\envs\\pol\\Lib\\site-packages\\polaris\\dataset\\_base.py#381\u001b\\\u001b[2m381\u001b[0m\u001b]8;;\u001b\\\n"
      ]
     },
     "metadata": {},
     "output_type": "display_data"
    },
    {
     "data": {
      "text/html": [
       "<pre style=\"white-space:pre;overflow-x:auto;line-height:normal;font-family:Menlo,'DejaVu Sans Mono',consolas,'Courier New',monospace\"><span style=\"color: #7fbfbf; text-decoration-color: #7fbfbf\">[12:23:50] </span><span style=\"color: #008000; text-decoration-color: #008000\"> Success: Copying Zarr keys</span>                                                                <a href=\"file://C:\\Users\\talag\\anaconda3\\envs\\pol\\Lib\\site-packages\\polaris\\utils\\context.py\" target=\"_blank\"><span style=\"color: #7f7f7f; text-decoration-color: #7f7f7f\">context.py</span></a><span style=\"color: #7f7f7f; text-decoration-color: #7f7f7f\">:</span><a href=\"file://C:\\Users\\talag\\anaconda3\\envs\\pol\\Lib\\site-packages\\polaris\\utils\\context.py#53\" target=\"_blank\"><span style=\"color: #7f7f7f; text-decoration-color: #7f7f7f\">53</span></a>\n",
       "</pre>\n"
      ],
      "text/plain": [
       "\u001b[2;36m[12:23:50]\u001b[0m\u001b[2;36m \u001b[0m\u001b[32m Success: Copying Zarr keys\u001b[0m                                                                \u001b]8;id=231900;file://C:\\Users\\talag\\anaconda3\\envs\\pol\\Lib\\site-packages\\polaris\\utils\\context.py\u001b\\\u001b[2mcontext.py\u001b[0m\u001b]8;;\u001b\\\u001b[2m:\u001b[0m\u001b]8;id=731201;file://C:\\Users\\talag\\anaconda3\\envs\\pol\\Lib\\site-packages\\polaris\\utils\\context.py#53\u001b\\\u001b[2m53\u001b[0m\u001b]8;;\u001b\\\n"
      ]
     },
     "metadata": {},
     "output_type": "display_data"
    },
    {
     "data": {
      "text/html": [
       "<pre style=\"white-space:pre;overflow-x:auto;line-height:normal;font-family:Menlo,'DejaVu Sans Mono',consolas,'Courier New',monospace\"><span style=\"color: #7fbfbf; text-decoration-color: #7fbfbf\">           </span><span style=\"color: #008000; text-decoration-color: #008000\"> Success: Copying Zarr archive</span>                                                             <a href=\"file://C:\\Users\\talag\\anaconda3\\envs\\pol\\Lib\\site-packages\\polaris\\utils\\context.py\" target=\"_blank\"><span style=\"color: #7f7f7f; text-decoration-color: #7f7f7f\">context.py</span></a><span style=\"color: #7f7f7f; text-decoration-color: #7f7f7f\">:</span><a href=\"file://C:\\Users\\talag\\anaconda3\\envs\\pol\\Lib\\site-packages\\polaris\\utils\\context.py#53\" target=\"_blank\"><span style=\"color: #7f7f7f; text-decoration-color: #7f7f7f\">53</span></a>\n",
       "</pre>\n"
      ],
      "text/plain": [
       "\u001b[2;36m          \u001b[0m\u001b[2;36m \u001b[0m\u001b[32m Success: Copying Zarr archive\u001b[0m                                                             \u001b]8;id=992842;file://C:\\Users\\talag\\anaconda3\\envs\\pol\\Lib\\site-packages\\polaris\\utils\\context.py\u001b\\\u001b[2mcontext.py\u001b[0m\u001b]8;;\u001b\\\u001b[2m:\u001b[0m\u001b]8;id=207243;file://C:\\Users\\talag\\anaconda3\\envs\\pol\\Lib\\site-packages\\polaris\\utils\\context.py#53\u001b\\\u001b[2m53\u001b[0m\u001b]8;;\u001b\\\n"
      ]
     },
     "metadata": {},
     "output_type": "display_data"
    },
    {
     "data": {
      "text/html": [
       "<pre style=\"white-space:pre;overflow-x:auto;line-height:normal;font-family:Menlo,'DejaVu Sans Mono',consolas,'Courier New',monospace\"></pre>\n"
      ],
      "text/plain": []
     },
     "metadata": {},
     "output_type": "display_data"
    },
    {
     "data": {
      "text/plain": [
       "'C:\\\\Users\\\\talag\\\\AppData\\\\Local\\\\polaris\\\\polaris\\\\Cache\\\\datasets\\\\1afc91de-787c-4a11-90a6-1df588f238ee'"
      ]
     },
     "execution_count": 6,
     "metadata": {},
     "output_type": "execute_result"
    }
   ],
   "source": [
    "competition.cache()"
   ]
  },
  {
   "cell_type": "markdown",
   "id": "a2455a1a-ef57-4e04-9d0c-47553c5e8059",
   "metadata": {},
   "source": [
    "Let's get the train and test set and take a look at the data structure."
   ]
  },
  {
   "cell_type": "code",
   "execution_count": 7,
   "id": "46c34cf4-31fd-4de1-8b18-0694a2a25d29",
   "metadata": {},
   "outputs": [],
   "source": [
    "train, test = competition.get_train_test_split()"
   ]
  },
  {
   "cell_type": "code",
   "execution_count": 8,
   "id": "dfa8d6c9-7274-4a30-937a-08e7a87974ce",
   "metadata": {},
   "outputs": [
    {
     "data": {
      "text/plain": [
       "('COC[C@]1(C)C(=O)N(C2=CN=CC3=CC=CC=C23)C(=O)N1C |&1:3|',\n",
       " {'pIC50 (SARS-CoV-2 Mpro)': np.float64(nan),\n",
       "  'pIC50 (MERS-CoV Mpro)': np.float64(4.19)})"
      ]
     },
     "execution_count": 8,
     "metadata": {},
     "output_type": "execute_result"
    }
   ],
   "source": [
    "train[0]"
   ]
  },
  {
   "cell_type": "code",
   "execution_count": 9,
   "id": "f9847194-922d-4068-9d12-228ed4ef3f32",
   "metadata": {},
   "outputs": [
    {
     "name": "stdout",
     "output_type": "stream",
     "text": [
      "<polaris.dataset._subset.Subset object at 0x000002ABA8D3F170>\n"
     ]
    }
   ],
   "source": [
    "print(test)"
   ]
  },
  {
   "cell_type": "code",
   "execution_count": 10,
   "id": "ec22ca4b-395b-407f-93e6-2879a6d18004",
   "metadata": {},
   "outputs": [
    {
     "data": {
      "text/plain": [
       "'C=CC(=O)NC1=CC=CC(N(CC2=CC=CC(Cl)=C2)C(=O)CC2=CN=CC3=CC=CC=C23)=C1'"
      ]
     },
     "execution_count": 10,
     "metadata": {},
     "output_type": "execute_result"
    }
   ],
   "source": [
    "test[0]"
   ]
  },
  {
   "cell_type": "code",
   "execution_count": 11,
   "id": "edb945d3-c7f5-4e7e-b1af-f3cceb1fcba3",
   "metadata": {},
   "outputs": [],
   "source": [
    "import pandas as pd\n",
    "\n",
    "\n",
    "df = pd.read_csv(\"antiviral_potency_predictions_2.csv\")"
   ]
  },
  {
   "cell_type": "code",
   "execution_count": 12,
   "id": "3e92136b-aea5-40bc-8756-8556dbf74287",
   "metadata": {},
   "outputs": [
    {
     "data": {
      "text/plain": [
       "{'pIC50 (MERS-CoV Mpro)', 'pIC50 (SARS-CoV-2 Mpro)'}"
      ]
     },
     "execution_count": 12,
     "metadata": {},
     "output_type": "execute_result"
    }
   ],
   "source": [
    "competition.target_cols"
   ]
  },
  {
   "cell_type": "code",
   "execution_count": 13,
   "id": "b67756d2-3569-4375-8de2-86f597b755be",
   "metadata": {},
   "outputs": [
    {
     "data": {
      "text/plain": [
       "['pIC50 (SARS-CoV-2 Mpro)', 'pIC50 (MERS-CoV Mpro)']"
      ]
     },
     "execution_count": 13,
     "metadata": {},
     "output_type": "execute_result"
    }
   ],
   "source": [
    "test.target_cols"
   ]
  },
  {
   "cell_type": "markdown",
   "id": "ae44540f-ff75-475b-8e23-1a7d2134cdcf",
   "metadata": {},
   "source": [
    "An interesting idea would be to build a multi-task model to leverage shared information across tasks.\n",
    "\n",
    "For the sake of simplicity, however, we'll simply build a model per target here. "
   ]
  },
  {
   "cell_type": "code",
   "execution_count": 72,
   "id": "6dc85903-c956-4418-ac9c-78303ad76cbe",
   "metadata": {},
   "outputs": [
    {
     "name": "stdout",
     "output_type": "stream",
     "text": [
      "pIC50 (SARS-CoV-2 Mpro)\n",
      "pIC50 (MERS-CoV Mpro)\n"
     ]
    }
   ],
   "source": [
    "for tgt in competition.target_cols:\n",
    "    print(tgt)"
   ]
  },
  {
   "cell_type": "code",
   "execution_count": 14,
   "id": "cba74454-705f-433a-b379-bf3a056d90a2",
   "metadata": {
    "scrolled": true
   },
   "outputs": [
    {
     "name": "stdout",
     "output_type": "stream",
     "text": [
      "{'pIC50 (SARS-CoV-2 Mpro)': array([5.2606316, 6.042621 , 5.5060997, 5.7655044, 6.3580527, 6.635112 ,\n",
      "       5.8555408, 6.781377 , 6.5181847, 6.5181847, 6.125652 , 7.2176757,\n",
      "       6.455889 , 7.156018 , 5.78455  , 6.902244 , 6.653148 , 6.085179 ,\n",
      "       4.744858 , 6.31968  , 7.1286716, 7.4047213, 6.65365  , 8.3577795,\n",
      "       5.84428  , 6.5421844, 6.1597114, 7.3859096, 5.9935613, 4.979324 ,\n",
      "       6.635112 , 6.978636 , 6.6643333, 6.332336 , 6.65365  , 6.332336 ,\n",
      "       6.615716 , 6.313798 , 6.635112 , 6.514045 , 6.332336 , 6.332336 ,\n",
      "       7.0407805, 7.0407805, 7.5038323, 7.5038323, 5.9526405, 5.9526405,\n",
      "       6.927808 , 6.927808 , 6.6376767, 6.635112 , 6.8372865, 6.65365  ,\n",
      "       5.7378697, 6.5267005, 6.332336 , 6.313798 , 6.8294764, 6.509946 ,\n",
      "       6.4625707, 6.550733 , 6.550733 , 6.65365  , 7.6429057, 6.176478 ,\n",
      "       7.365069 , 7.685716 , 6.635112 , 6.987118 , 6.332336 , 7.427582 ,\n",
      "       7.427582 , 6.332336 , 6.65365  , 6.2001977, 6.2001977, 7.697893 ,\n",
      "       6.65365  , 7.1267576, 6.663706 , 6.663706 , 7.1467543, 6.332336 ,\n",
      "       6.8254404, 6.8254404, 6.635112 , 7.704641 , 6.532812 , 6.96858  ,\n",
      "       7.427582 , 8.393517 , 7.427582 , 7.726003 , 6.998111 , 7.427582 ,\n",
      "       7.427582 , 7.832023 , 7.6510844, 7.602226 , 7.6510844, 7.427582 ,\n",
      "       7.726003 , 7.6510844, 6.932654 , 7.0351543, 6.7506523, 6.6343613,\n",
      "       6.832122 , 5.8715816, 6.6849065, 7.16559  , 6.237375 , 7.427582 ,\n",
      "       6.3580527, 7.6510844, 6.3580527, 5.829916 , 6.3580527, 7.016527 ,\n",
      "       7.016527 , 7.3779225, 6.8044076, 7.480222 , 6.3580527, 7.016527 ,\n",
      "       6.8765335, 6.276271 , 4.473395 , 6.588196 , 7.300128 , 5.158047 ,\n",
      "       5.322756 , 4.538567 , 4.538567 , 4.538567 , 4.162691 , 4.294673 ,\n",
      "       4.217253 , 5.747442 , 4.538567 , 5.372561 , 4.333793 , 5.5508018,\n",
      "       5.611409 , 4.294673 , 4.162691 , 4.3112264, 4.792427 , 4.0273795,\n",
      "       5.8715816, 5.9709444, 5.9709444, 4.586063 , 4.6924105, 4.538567 ,\n",
      "       5.521046 , 4.0273795, 6.810054 , 6.810054 , 4.792427 , 4.538567 ,\n",
      "       4.537925 , 5.2005434, 4.919751 , 5.143254 , 4.792427 , 4.3112264,\n",
      "       4.8202977, 4.538567 , 5.5502677, 5.4219174, 5.6416845, 5.233923 ,\n",
      "       7.1589084, 5.220027 , 5.366106 , 6.8254404, 5.4365425, 7.1589084,\n",
      "       5.255806 , 5.359931 , 7.2298813, 5.24893  , 7.9437294, 8.014701 ,\n",
      "       4.991377 , 5.16299  , 5.806286 , 5.7700233, 4.4568024, 5.255806 ,\n",
      "       6.3941813, 6.1122413, 5.9709444, 5.7269297, 5.16299  , 5.7269297,\n",
      "       4.4695425, 5.915426 , 5.915426 , 6.1732845, 4.868197 , 4.3112264,\n",
      "       4.3312654, 3.9899125, 4.872035 , 3.9485354, 3.9899125, 5.030351 ,\n",
      "       4.474945 , 4.2037473, 4.6592183, 4.6592183, 4.4847   , 4.4847   ,\n",
      "       4.440756 , 4.440756 , 5.6416845, 3.6401129, 3.6401129, 4.757581 ,\n",
      "       4.757581 , 4.872035 , 3.6469517, 5.085165 , 5.977626 , 5.977626 ,\n",
      "       4.538567 , 4.538567 , 4.538567 , 4.6585903, 4.6585903, 4.984922 ,\n",
      "       4.815626 , 4.7620697, 4.987539 , 4.987539 , 4.778116 , 4.538567 ,\n",
      "       5.1094337, 4.6585903, 4.6585903, 4.766474 , 4.538567 , 5.225578 ,\n",
      "       4.658132 , 5.219399 , 3.4826329, 4.979303 , 5.428868 , 4.163427 ,\n",
      "       4.163427 , 4.919751 , 4.815626 , 5.12548  , 5.770301 , 5.6416845,\n",
      "       5.085165 , 5.330357 , 3.8525918, 4.7620697, 4.885931 , 4.538567 ,\n",
      "       5.172976 , 4.0530515, 4.868197 , 4.868197 , 5.002075 , 4.538567 ,\n",
      "       5.12548  , 4.5100093, 4.538567 , 4.564617 , 4.5677886, 4.8572383,\n",
      "       4.7338614, 4.6592183, 4.6592183, 4.6592183, 4.6592183, 3.6227844,\n",
      "       4.538567 , 4.418583 , 4.737916 , 4.538567 , 4.7620697, 4.7620697,\n",
      "       4.658132 , 4.1683936, 4.538567 , 4.538567 , 4.538567 , 4.538567 ,\n",
      "       4.7620697, 6.0469418, 6.0469418]), 'pIC50 (MERS-CoV Mpro)': array([5.320606 , 5.2716703, 5.059407 , 5.1448517, 5.284195 , 5.2422705,\n",
      "       5.368682 , 5.3890457, 5.09416  , 5.0523124, 5.008095 , 5.4924116,\n",
      "       5.317238 , 5.3535748, 5.489856 , 5.3856745, 5.1945477, 4.9230795,\n",
      "       4.5703797, 5.1945477, 5.310707 , 5.5732174, 5.90456  , 5.951708 ,\n",
      "       4.988575 , 5.777872 , 5.2126884, 5.6973   , 5.5732174, 5.0983877,\n",
      "       5.310707 , 5.2226267, 5.569541 , 5.7737846, 5.7737846, 5.859026 ,\n",
      "       5.4277925, 5.4277925, 5.310707 , 5.0386257, 5.4612246, 6.0134506,\n",
      "       5.2927275, 5.2927275, 5.5598526, 5.5598526, 5.412199 , 5.412199 ,\n",
      "       5.3541775, 5.3541775, 5.570532 , 5.310707 , 5.586858 , 5.717229 ,\n",
      "       5.4824514, 5.656699 , 5.656699 , 5.3782187, 5.154785 , 5.310707 ,\n",
      "       5.636894 , 5.568618 , 5.568618 , 5.656699 , 5.310707 , 5.310707 ,\n",
      "       5.8662004, 5.8747177, 5.5087624, 5.689556 , 5.6969585, 5.932081 ,\n",
      "       5.8662004, 5.656699 , 5.322341 , 5.511917 , 5.7902985, 5.7984476,\n",
      "       5.656699 , 5.8204584, 5.5533333, 5.5153084, 6.170492 , 5.656699 ,\n",
      "       6.170492 , 6.1144114, 5.310707 , 5.8597145, 5.329629 , 5.310707 ,\n",
      "       5.777872 , 5.8662004, 5.777872 , 5.819627 , 5.3081512, 5.81073  ,\n",
      "       5.81073  , 5.8633804, 5.777872 , 5.7191763, 5.777872 , 5.722163 ,\n",
      "       5.819627 , 5.777872 , 5.6903343, 5.7040815, 5.82712  , 5.858508 ,\n",
      "       6.210511 , 5.159464 , 5.2929363, 6.1123486, 5.2422705, 5.932081 ,\n",
      "       5.2166834, 5.777872 , 5.2166834, 5.2166834, 5.148247 , 4.5954304,\n",
      "       4.5954304, 5.969017 , 5.148247 , 5.995263 , 5.148247 , 4.5954304,\n",
      "       5.2166834, 5.2166834, 4.69218  , 4.846346 , 5.858508 , 4.8939314,\n",
      "       5.074649 , 4.761406 , 4.372012 , 4.808857 , 4.9023666, 4.80898  ,\n",
      "       4.5442076, 4.4102573, 4.775042 , 4.4092307, 4.462623 , 4.952179 ,\n",
      "       5.127536 , 4.6680193, 4.9023666, 4.9013677, 4.462623 , 4.3791895,\n",
      "       5.30056  , 4.8447943, 4.8447943, 4.9308953, 4.894613 , 4.936644 ,\n",
      "       5.114984 , 4.4130044, 5.1169605, 5.1169605, 4.462623 , 4.287398 ,\n",
      "       4.4563904, 4.514545 , 4.7014904, 4.81493  , 4.462623 , 4.598121 ,\n",
      "       4.8791246, 4.764301 , 5.1833744, 4.736542 , 4.7995963, 4.639909 ,\n",
      "       6.1021833, 4.663885 , 4.5040636, 6.099784 , 4.584469 , 6.181488 ,\n",
      "       4.686024 , 4.936644 , 6.2049227, 4.511265 , 6.132676 , 6.2354155,\n",
      "       4.7717447, 4.6545105, 5.036561 , 4.5309515, 4.437344 , 4.560497 ,\n",
      "       4.353427 , 4.7147365, 5.0744343, 4.7623076, 4.96094  , 4.6688447,\n",
      "       4.662233 , 5.137554 , 5.137554 , 4.7117896, 4.6879983, 4.4249716,\n",
      "       4.5875573, 4.72059  , 4.491992 , 4.5525494, 4.72059  , 4.685781 ,\n",
      "       4.9795446, 4.537063 , 4.7474356, 4.7474356, 4.210187 , 4.210187 ,\n",
      "       4.6013193, 4.6013193, 4.9672966, 4.598905 , 4.598905 , 4.795403 ,\n",
      "       4.795403 , 4.491992 , 4.3602347, 4.5604734, 4.883171 , 4.883171 ,\n",
      "       4.717496 , 4.885735 , 4.885735 , 4.7076464, 4.7076464, 4.6885495,\n",
      "       4.7441974, 4.834374 , 4.8066473, 4.8066473, 4.835931 , 4.480832 ,\n",
      "       4.5871286, 4.6804814, 4.6804814, 4.5366178, 4.7556086, 5.014467 ,\n",
      "       4.8342733, 4.525578 , 4.680826 , 4.555725 , 4.9001956, 4.922795 ,\n",
      "       4.922795 , 4.81493  , 4.4441743, 4.841322 , 4.8619003, 4.9672966,\n",
      "       4.5604734, 4.4746227, 4.462974 , 4.4292645, 4.7282076, 4.6118264,\n",
      "       4.8006296, 4.99917  , 4.6403127, 4.6403127, 4.5070257, 4.6245437,\n",
      "       4.547695 , 4.5387697, 4.7893066, 4.581808 , 4.56289  , 4.644384 ,\n",
      "       4.3093224, 4.5347176, 4.5347176, 4.5347176, 4.5347176, 4.7274   ,\n",
      "       4.738805 , 4.8023715, 4.8049493, 4.738805 , 4.288304 , 4.288304 ,\n",
      "       4.7282195, 4.555725 , 4.442723 , 4.442723 , 4.442723 , 4.442723 ,\n",
      "       4.288304 , 5.0867825, 5.0867825])}\n"
     ]
    }
   ],
   "source": [
    "y_pred = {}\n",
    "\n",
    "for tgt in competition.target_cols:\n",
    "    if tgt == \"pIC50 (SARS-CoV-2 Mpro)\":\n",
    "        y_pred[tgt] = df[\"SARS\"].values  # Assign SARS values\n",
    "    elif tgt == \"pIC50 (MERS-CoV Mpro)\":\n",
    "        y_pred[tgt] = df[\"MERS\"].values  # Assign MERS values\n",
    "\n",
    "# Check the output\n",
    "print(y_pred)\n"
   ]
  },
  {
   "cell_type": "markdown",
   "id": "820563e3-e372-4fdc-b038-259d24c5e0d8",
   "metadata": {},
   "source": [
    "## Submit your predictions\n",
    "Submitting your predictions to the competition is simple."
   ]
  },
  {
   "cell_type": "code",
   "execution_count": 15,
   "id": "4b1f4ead-0be2-44bd-84f9-608700589229",
   "metadata": {},
   "outputs": [
    {
     "data": {
      "text/html": [
       "<pre style=\"white-space:pre;overflow-x:auto;line-height:normal;font-family:Menlo,'DejaVu Sans Mono',consolas,'Courier New',monospace\">C:\\Users\\talag\\anaconda3\\envs\\pol\\Lib\\site-packages\\rich\\live.py:231: UserWarning: install \"ipywidgets\" for Jupyter\n",
       "support\n",
       "  warnings.warn('install \"ipywidgets\" for Jupyter support')\n",
       "</pre>\n"
      ],
      "text/plain": [
       "C:\\Users\\talag\\anaconda3\\envs\\pol\\Lib\\site-packages\\rich\\live.py:231: UserWarning: install \"ipywidgets\" for Jupyter\n",
       "support\n",
       "  warnings.warn('install \"ipywidgets\" for Jupyter support')\n"
      ]
     },
     "metadata": {},
     "output_type": "display_data"
    },
    {
     "data": {
      "text/html": [
       "<pre style=\"white-space:pre;overflow-x:auto;line-height:normal;font-family:Menlo,'DejaVu Sans Mono',consolas,'Courier New',monospace\"><span style=\"color: #7fbfbf; text-decoration-color: #7fbfbf\">[12:58:36] </span><span style=\"color: #008000; text-decoration-color: #008000\"> Success: Submitting competition predictions</span>                                               <a href=\"file://C:\\Users\\talag\\anaconda3\\envs\\pol\\Lib\\site-packages\\polaris\\utils\\context.py\" target=\"_blank\"><span style=\"color: #7f7f7f; text-decoration-color: #7f7f7f\">context.py</span></a><span style=\"color: #7f7f7f; text-decoration-color: #7f7f7f\">:</span><a href=\"file://C:\\Users\\talag\\anaconda3\\envs\\pol\\Lib\\site-packages\\polaris\\utils\\context.py#53\" target=\"_blank\"><span style=\"color: #7f7f7f; text-decoration-color: #7f7f7f\">53</span></a>\n",
       "</pre>\n"
      ],
      "text/plain": [
       "\u001b[2;36m[12:58:36]\u001b[0m\u001b[2;36m \u001b[0m\u001b[32m Success: Submitting competition predictions\u001b[0m                                               \u001b]8;id=502216;file://C:\\Users\\talag\\anaconda3\\envs\\pol\\Lib\\site-packages\\polaris\\utils\\context.py\u001b\\\u001b[2mcontext.py\u001b[0m\u001b]8;;\u001b\\\u001b[2m:\u001b[0m\u001b]8;id=482692;file://C:\\Users\\talag\\anaconda3\\envs\\pol\\Lib\\site-packages\\polaris\\utils\\context.py#53\u001b\\\u001b[2m53\u001b[0m\u001b]8;;\u001b\\\n"
      ]
     },
     "metadata": {},
     "output_type": "display_data"
    },
    {
     "data": {
      "text/html": [
       "<pre style=\"white-space:pre;overflow-x:auto;line-height:normal;font-family:Menlo,'DejaVu Sans Mono',consolas,'Courier New',monospace\"></pre>\n"
      ],
      "text/plain": []
     },
     "metadata": {},
     "output_type": "display_data"
    }
   ],
   "source": [
    "competition.submit_predictions(\n",
    "    predictions=y_pred,\n",
    "    prediction_name=\"preliminary_predictions\",\n",
    "    prediction_owner=\"wolberlab\",\n",
    "    report_url=\"https://github.com/talagayev/polaris_antiviral_challenge/blob/main/Preliminary_prediction_protocol_2nd_submission.md\", \n",
    "    # The below metadata is optional, but recommended.\n",
    "    github_url=\"https://github.com/talagayev/polaris_antiviral_challenge\",\n",
    "    contributors=[\"talagayev\", \"ndoering99\", \"sijie-liu97\"],\n",
    "    description=\"Preliminary predictions for the potency for the 2nd intermediate leaderboard\",\n",
    "    tags=[\"antiviral_potency\"],\n",
    "    user_attributes={\"Framework\": \"Scikit-learn\", \"Method\": \"XGBoost\"}\n",
    ")"
   ]
  },
  {
   "cell_type": "markdown",
   "id": "c515ba0e-1274-4ba1-b0ee-088b11d0983d",
   "metadata": {},
   "source": [
    "For the ASAP competition, we will only evaluate your latest submission. \n",
    "\n",
    "The results will only be disclosed after the competition ends."
   ]
  },
  {
   "cell_type": "markdown",
   "id": "24cb48a8-86f9-43e5-ad8b-74e039158387",
   "metadata": {},
   "source": [
    "The End."
   ]
  }
 ],
 "metadata": {
  "kernelspec": {
   "display_name": "Python 3 (ipykernel)",
   "language": "python",
   "name": "python3"
  },
  "language_info": {
   "codemirror_mode": {
    "name": "ipython",
    "version": 3
   },
   "file_extension": ".py",
   "mimetype": "text/x-python",
   "name": "python",
   "nbconvert_exporter": "python",
   "pygments_lexer": "ipython3",
   "version": "3.12.9"
  }
 },
 "nbformat": 4,
 "nbformat_minor": 5
}
