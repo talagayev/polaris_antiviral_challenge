{
 "cells": [
  {
   "cell_type": "markdown",
   "id": "f3e51057-9432-4574-9ee5-69760ecd806d",
   "metadata": {},
   "source": [
    "# Ligand ADMET and Potency (Property Prediction)\n",
    "\n",
    "The [ADMET](https://polarishub.io/competitions/asap-discovery/antiviral-admet-2025) and [Potency](https://polarishub.io/competitions/asap-discovery/antiviral-potency-2025) Challenge of the [ASAP Discovery competition](https://polarishub.io/blog/antiviral-competition) take the shape of a property prediction task. Given the SMILES (or, to be more precise, the CXSMILES) of a molecule, you are asked to predict the numerical properties of said molecule. This is a relatively straight-forward application of ML and this notebook will quickly get you up and running!\n",
    "\n",
    "To begin with, choose one of the two challenges! The code will look the same for both. "
   ]
  },
  {
   "cell_type": "code",
   "execution_count": 1,
   "id": "ba94f96e-10ba-46b6-8b1f-9fb333601b87",
   "metadata": {},
   "outputs": [
    {
     "name": "stderr",
     "output_type": "stream",
     "text": [
      "C:\\Users\\Valerij\\anaconda3\\envs\\pol_sub\\Lib\\site-packages\\tqdm\\auto.py:21: TqdmWarning: IProgress not found. Please update jupyter and ipywidgets. See https://ipywidgets.readthedocs.io/en/stable/user_install.html\n",
      "  from .autonotebook import tqdm as notebook_tqdm\n"
     ]
    }
   ],
   "source": [
    "import polaris as po\n",
    "from polaris.hub.client import PolarisHubClient\n",
    "import csv"
   ]
  },
  {
   "cell_type": "code",
   "execution_count": 2,
   "id": "4f8e964a-a1f5-4237-ab75-fdc318bb265f",
   "metadata": {},
   "outputs": [
    {
     "data": {
      "text/html": [
       "<pre style=\"white-space:pre;overflow-x:auto;line-height:normal;font-family:Menlo,'DejaVu Sans Mono',consolas,'Courier New',monospace\"><span style=\"color: #7fbfbf; text-decoration-color: #7fbfbf\">[2025-02-10 19:07:05] </span><span style=\"color: #000080; text-decoration-color: #000080\">INFO    </span> Your browser has been opened to visit:                        <a href=\"file://C:\\Users\\Valerij\\anaconda3\\envs\\pol_sub\\Lib\\site-packages\\polaris\\hub\\external_client.py\" target=\"_blank\"><span style=\"color: #7f7f7f; text-decoration-color: #7f7f7f\">external_client.py</span></a><span style=\"color: #7f7f7f; text-decoration-color: #7f7f7f\">:</span><a href=\"file://C:\\Users\\Valerij\\anaconda3\\envs\\pol_sub\\Lib\\site-packages\\polaris\\hub\\external_client.py#149\" target=\"_blank\"><span style=\"color: #7f7f7f; text-decoration-color: #7f7f7f\">149</span></a>\n",
       "<span style=\"color: #7fbfbf; text-decoration-color: #7fbfbf\">                      </span>         <span style=\"color: #0000ff; text-decoration-color: #0000ff; text-decoration: underline\">https://clerk.polarishub.io/oauth/authorize?response_type=cod</span> <span style=\"color: #7f7f7f; text-decoration-color: #7f7f7f\">                      </span>\n",
       "<span style=\"color: #7fbfbf; text-decoration-color: #7fbfbf\">                      </span>         <span style=\"color: #0000ff; text-decoration-color: #0000ff; text-decoration: underline\">e&amp;client_id=agQP2xVM6JqMHvGc&amp;redirect_uri=https%3A%2F%2Fpolar</span> <span style=\"color: #7f7f7f; text-decoration-color: #7f7f7f\">                      </span>\n",
       "<span style=\"color: #7fbfbf; text-decoration-color: #7fbfbf\">                      </span>         <span style=\"color: #0000ff; text-decoration-color: #0000ff; text-decoration: underline\">ishub.io%2Foauth2%2Fcallback&amp;scope=profile+email&amp;state=2ro3oX</span> <span style=\"color: #7f7f7f; text-decoration-color: #7f7f7f\">                      </span>\n",
       "<span style=\"color: #7fbfbf; text-decoration-color: #7fbfbf\">                      </span>         <span style=\"color: #0000ff; text-decoration-color: #0000ff; text-decoration: underline\">0SLj6ixytupe5qFOWBMer4wX&amp;code_challenge=ONgkiQXdPZvvxtC_P6bgi</span> <span style=\"color: #7f7f7f; text-decoration-color: #7f7f7f\">                      </span>\n",
       "<span style=\"color: #7fbfbf; text-decoration-color: #7fbfbf\">                      </span>         <span style=\"color: #0000ff; text-decoration-color: #0000ff; text-decoration: underline\">riDziOYzKua-_xOf7pXfok&amp;code_challenge_method=S256</span>             <span style=\"color: #7f7f7f; text-decoration-color: #7f7f7f\">                      </span>\n",
       "<span style=\"color: #7fbfbf; text-decoration-color: #7fbfbf\">                      </span>                                                                       <span style=\"color: #7f7f7f; text-decoration-color: #7f7f7f\">                      </span>\n",
       "</pre>\n"
      ],
      "text/plain": [
       "\u001b[2;36m[2025-02-10 19:07:05]\u001b[0m\u001b[2;36m \u001b[0m\u001b[34mINFO    \u001b[0m Your browser has been opened to visit:                        \u001b]8;id=800664;file://C:\\Users\\Valerij\\anaconda3\\envs\\pol_sub\\Lib\\site-packages\\polaris\\hub\\external_client.py\u001b\\\u001b[2mexternal_client.py\u001b[0m\u001b]8;;\u001b\\\u001b[2m:\u001b[0m\u001b]8;id=750416;file://C:\\Users\\Valerij\\anaconda3\\envs\\pol_sub\\Lib\\site-packages\\polaris\\hub\\external_client.py#149\u001b\\\u001b[2m149\u001b[0m\u001b]8;;\u001b\\\n",
       "\u001b[2;36m                      \u001b[0m         \u001b[4;94mhttps://clerk.polarishub.io/oauth/authorize?\u001b[0m\u001b[4;94mresponse_type\u001b[0m\u001b[4;94m=\u001b[0m\u001b[4;94mcod\u001b[0m \u001b[2m                      \u001b[0m\n",
       "\u001b[2;36m                      \u001b[0m         \u001b[4;94me\u001b[0m\u001b[4;94m&\u001b[0m\u001b[4;94mclient_id\u001b[0m\u001b[4;94m=\u001b[0m\u001b[4;94magQP2xVM6JqMHvGc\u001b[0m\u001b[4;94m&\u001b[0m\u001b[4;94mredirect_uri\u001b[0m\u001b[4;94m=\u001b[0m\u001b[4;94mhttps\u001b[0m\u001b[4;94m%3A%2F%2Fpolar\u001b[0m \u001b[2m                      \u001b[0m\n",
       "\u001b[2;36m                      \u001b[0m         \u001b[4;94mishub.io%2Foauth2%2Fcallback&\u001b[0m\u001b[4;94mscope\u001b[0m\u001b[4;94m=\u001b[0m\u001b[4;94mprofile\u001b[0m\u001b[4;94m+email&\u001b[0m\u001b[4;94mstate\u001b[0m\u001b[4;94m=\u001b[0m\u001b[4;94m2ro3oX\u001b[0m \u001b[2m                      \u001b[0m\n",
       "\u001b[2;36m                      \u001b[0m         \u001b[4;94m0SLj6ixytupe5qFOWBMer4wX\u001b[0m\u001b[4;94m&\u001b[0m\u001b[4;94mcode_challenge\u001b[0m\u001b[4;94m=\u001b[0m\u001b[4;94mONgkiQXdPZvvxtC_P6bgi\u001b[0m \u001b[2m                      \u001b[0m\n",
       "\u001b[2;36m                      \u001b[0m         \u001b[4;94mriDziOYzKua\u001b[0m\u001b[4;94m-_xOf7pXfok&\u001b[0m\u001b[4;94mcode_challenge_method\u001b[0m\u001b[4;94m=\u001b[0m\u001b[4;94mS256\u001b[0m             \u001b[2m                      \u001b[0m\n",
       "\u001b[2;36m                      \u001b[0m                                                                       \u001b[2m                      \u001b[0m\n"
      ]
     },
     "metadata": {},
     "output_type": "display_data"
    },
    {
     "name": "stdin",
     "output_type": "stream",
     "text": [
      "Please enter the authorization token:  Y2ZIMDBHNJCTMDZMMY0ZOWU0LWEWOGETZTBHNZI3NTAXZGFL\n"
     ]
    },
    {
     "data": {
      "text/html": [
       "<pre style=\"white-space:pre;overflow-x:auto;line-height:normal;font-family:Menlo,'DejaVu Sans Mono',consolas,'Courier New',monospace\"><span style=\"color: #7fbfbf; text-decoration-color: #7fbfbf\">[2025-02-10 19:07:13] </span><span style=\"color: #000080; text-decoration-color: #000080\">INFO    </span> Successfully authenticated to the Polaris Hub as              <a href=\"file://C:\\Users\\Valerij\\anaconda3\\envs\\pol_sub\\Lib\\site-packages\\polaris\\hub\\external_client.py\" target=\"_blank\"><span style=\"color: #7f7f7f; text-decoration-color: #7f7f7f\">external_client.py</span></a><span style=\"color: #7f7f7f; text-decoration-color: #7f7f7f\">:</span><a href=\"file://C:\\Users\\Valerij\\anaconda3\\envs\\pol_sub\\Lib\\site-packages\\polaris\\hub\\external_client.py#160\" target=\"_blank\"><span style=\"color: #7f7f7f; text-decoration-color: #7f7f7f\">160</span></a>\n",
       "<span style=\"color: #7fbfbf; text-decoration-color: #7fbfbf\">                      </span>         `talagayv95@gmail.com`!                                       <span style=\"color: #7f7f7f; text-decoration-color: #7f7f7f\">                      </span>\n",
       "</pre>\n"
      ],
      "text/plain": [
       "\u001b[2;36m[2025-02-10 19:07:13]\u001b[0m\u001b[2;36m \u001b[0m\u001b[34mINFO    \u001b[0m Successfully authenticated to the Polaris Hub as              \u001b]8;id=33585;file://C:\\Users\\Valerij\\anaconda3\\envs\\pol_sub\\Lib\\site-packages\\polaris\\hub\\external_client.py\u001b\\\u001b[2mexternal_client.py\u001b[0m\u001b]8;;\u001b\\\u001b[2m:\u001b[0m\u001b]8;id=795520;file://C:\\Users\\Valerij\\anaconda3\\envs\\pol_sub\\Lib\\site-packages\\polaris\\hub\\external_client.py#160\u001b\\\u001b[2m160\u001b[0m\u001b]8;;\u001b\\\n",
       "\u001b[2;36m                      \u001b[0m         `talagayv95@gmail.com`!                                       \u001b[2m                      \u001b[0m\n"
      ]
     },
     "metadata": {},
     "output_type": "display_data"
    },
    {
     "data": {
      "text/html": [
       "<pre style=\"white-space:pre;overflow-x:auto;line-height:normal;font-family:Menlo,'DejaVu Sans Mono',consolas,'Courier New',monospace\"><span style=\"color: #7fbfbf; text-decoration-color: #7fbfbf\">[2025-02-10 19:07:14] </span><span style=\"color: #000080; text-decoration-color: #000080\">INFO    </span> You are successfully logged in to the Polaris Hub.                     <a href=\"file://C:\\Users\\Valerij\\anaconda3\\envs\\pol_sub\\Lib\\site-packages\\polaris\\hub\\client.py\" target=\"_blank\"><span style=\"color: #7f7f7f; text-decoration-color: #7f7f7f\">client.py</span></a><span style=\"color: #7f7f7f; text-decoration-color: #7f7f7f\">:</span><a href=\"file://C:\\Users\\Valerij\\anaconda3\\envs\\pol_sub\\Lib\\site-packages\\polaris\\hub\\client.py#252\" target=\"_blank\"><span style=\"color: #7f7f7f; text-decoration-color: #7f7f7f\">252</span></a>\n",
       "</pre>\n"
      ],
      "text/plain": [
       "\u001b[2;36m[2025-02-10 19:07:14]\u001b[0m\u001b[2;36m \u001b[0m\u001b[34mINFO    \u001b[0m You are successfully logged in to the Polaris Hub.                     \u001b]8;id=29628;file://C:\\Users\\Valerij\\anaconda3\\envs\\pol_sub\\Lib\\site-packages\\polaris\\hub\\client.py\u001b\\\u001b[2mclient.py\u001b[0m\u001b]8;;\u001b\\\u001b[2m:\u001b[0m\u001b]8;id=620681;file://C:\\Users\\Valerij\\anaconda3\\envs\\pol_sub\\Lib\\site-packages\\polaris\\hub\\client.py#252\u001b\\\u001b[2m252\u001b[0m\u001b]8;;\u001b\\\n"
      ]
     },
     "metadata": {},
     "output_type": "display_data"
    }
   ],
   "source": [
    "client = PolarisHubClient()\n",
    "client.login(overwrite=True)"
   ]
  },
  {
   "cell_type": "code",
   "execution_count": 3,
   "id": "c1e1f5a4-d7b4-41cc-a5fc-a657ca5fd6cf",
   "metadata": {},
   "outputs": [],
   "source": [
    "CHALLENGE = \"antiviral-admet-2025\"  # or: \"antiviral-potency-2025\""
   ]
  },
  {
   "cell_type": "code",
   "execution_count": 4,
   "id": "100413a0-c9dd-40f3-97bd-542a00682bd4",
   "metadata": {},
   "outputs": [
    {
     "ename": "SyntaxError",
     "evalue": "invalid syntax (1113333330.py, line 1)",
     "output_type": "error",
     "traceback": [
      "\u001b[1;36m  Cell \u001b[1;32mIn[4], line 1\u001b[1;36m\u001b[0m\n\u001b[1;33m    polaris login --overwrite\u001b[0m\n\u001b[1;37m            ^\u001b[0m\n\u001b[1;31mSyntaxError\u001b[0m\u001b[1;31m:\u001b[0m invalid syntax\n"
     ]
    }
   ],
   "source": [
    "polaris login --overwrite"
   ]
  },
  {
   "cell_type": "markdown",
   "id": "2319bfb8-1fef-4294-a8f6-a225b7a95c09",
   "metadata": {},
   "source": [
    "## Load the competition\n",
    "\n",
    "Let's first load the competition from Polaris.\n",
    "\n",
    "Make sure you are logged in! If not, simply run `polaris login` and follow the instructions. "
   ]
  },
  {
   "cell_type": "code",
   "execution_count": 5,
   "id": "0a466c50-5408-4f72-840c-b467ca5f0f3f",
   "metadata": {},
   "outputs": [
    {
     "data": {
      "text/html": [
       "<pre style=\"white-space:pre;overflow-x:auto;line-height:normal;font-family:Menlo,'DejaVu Sans Mono',consolas,'Courier New',monospace\"><span style=\"color: #7fbfbf; text-decoration-color: #7fbfbf\">[2025-02-10 19:07:24] </span><span style=\"color: #000080; text-decoration-color: #000080\">INFO    </span> The version of Polaris that was used to create the artifact <span style=\"font-weight: bold\">(</span><span style=\"color: #008080; text-decoration-color: #008080; font-weight: bold\">0.11</span>.<span style=\"color: #008080; text-decoration-color: #008080; font-weight: bold\">0</span><span style=\"font-weight: bold\">)</span> <a href=\"file://C:\\Users\\Valerij\\anaconda3\\envs\\pol_sub\\Lib\\site-packages\\polaris\\_artifact.py\" target=\"_blank\"><span style=\"color: #7f7f7f; text-decoration-color: #7f7f7f\">_artifact.py</span></a><span style=\"color: #7f7f7f; text-decoration-color: #7f7f7f\">:</span><a href=\"file://C:\\Users\\Valerij\\anaconda3\\envs\\pol_sub\\Lib\\site-packages\\polaris\\_artifact.py#92\" target=\"_blank\"><span style=\"color: #7f7f7f; text-decoration-color: #7f7f7f\">92</span></a>\n",
       "<span style=\"color: #7fbfbf; text-decoration-color: #7fbfbf\">                      </span>         is different from the currently installed version of Polaris         <span style=\"color: #7f7f7f; text-decoration-color: #7f7f7f\">               </span>\n",
       "<span style=\"color: #7fbfbf; text-decoration-color: #7fbfbf\">                      </span>         <span style=\"font-weight: bold\">(</span><span style=\"color: #008080; text-decoration-color: #008080; font-weight: bold\">0.11</span>.<span style=\"color: #008080; text-decoration-color: #008080; font-weight: bold\">7</span><span style=\"font-weight: bold\">)</span>.                                                            <span style=\"color: #7f7f7f; text-decoration-color: #7f7f7f\">               </span>\n",
       "</pre>\n"
      ],
      "text/plain": [
       "\u001b[2;36m[2025-02-10 19:07:24]\u001b[0m\u001b[2;36m \u001b[0m\u001b[34mINFO    \u001b[0m The version of Polaris that was used to create the artifact \u001b[1m(\u001b[0m\u001b[1;36m0.11\u001b[0m.\u001b[1;36m0\u001b[0m\u001b[1m)\u001b[0m \u001b]8;id=651170;file://C:\\Users\\Valerij\\anaconda3\\envs\\pol_sub\\Lib\\site-packages\\polaris\\_artifact.py\u001b\\\u001b[2m_artifact.py\u001b[0m\u001b]8;;\u001b\\\u001b[2m:\u001b[0m\u001b]8;id=778889;file://C:\\Users\\Valerij\\anaconda3\\envs\\pol_sub\\Lib\\site-packages\\polaris\\_artifact.py#92\u001b\\\u001b[2m92\u001b[0m\u001b]8;;\u001b\\\n",
       "\u001b[2;36m                      \u001b[0m         is different from the currently installed version of Polaris         \u001b[2m               \u001b[0m\n",
       "\u001b[2;36m                      \u001b[0m         \u001b[1m(\u001b[0m\u001b[1;36m0.11\u001b[0m.\u001b[1;36m7\u001b[0m\u001b[1m)\u001b[0m.                                                            \u001b[2m               \u001b[0m\n"
      ]
     },
     "metadata": {},
     "output_type": "display_data"
    },
    {
     "data": {
      "text/html": [
       "<pre style=\"white-space:pre;overflow-x:auto;line-height:normal;font-family:Menlo,'DejaVu Sans Mono',consolas,'Courier New',monospace\"><span style=\"color: #7fbfbf; text-decoration-color: #7fbfbf\">                      </span><span style=\"color: #808000; text-decoration-color: #808000\">WARNING </span> You're loading data from a remote location. If the dataset is small     <a href=\"file://C:\\Users\\Valerij\\anaconda3\\envs\\pol_sub\\Lib\\site-packages\\polaris\\dataset\\_base.py\" target=\"_blank\"><span style=\"color: #7f7f7f; text-decoration-color: #7f7f7f\">_base.py</span></a><span style=\"color: #7f7f7f; text-decoration-color: #7f7f7f\">:</span><a href=\"file://C:\\Users\\Valerij\\anaconda3\\envs\\pol_sub\\Lib\\site-packages\\polaris\\dataset\\_base.py#182\" target=\"_blank\"><span style=\"color: #7f7f7f; text-decoration-color: #7f7f7f\">182</span></a>\n",
       "<span style=\"color: #7fbfbf; text-decoration-color: #7fbfbf\">                      </span>         enough, consider caching the dataset first using                        <span style=\"color: #7f7f7f; text-decoration-color: #7f7f7f\">            </span>\n",
       "<span style=\"color: #7fbfbf; text-decoration-color: #7fbfbf\">                      </span>         <span style=\"color: #800080; text-decoration-color: #800080; font-weight: bold\">CompetitionSpecification.cache</span><span style=\"font-weight: bold\">()</span> for more performant data access.       <span style=\"color: #7f7f7f; text-decoration-color: #7f7f7f\">            </span>\n",
       "</pre>\n"
      ],
      "text/plain": [
       "\u001b[2;36m                     \u001b[0m\u001b[2;36m \u001b[0m\u001b[33mWARNING \u001b[0m You're loading data from a remote location. If the dataset is small     \u001b]8;id=528924;file://C:\\Users\\Valerij\\anaconda3\\envs\\pol_sub\\Lib\\site-packages\\polaris\\dataset\\_base.py\u001b\\\u001b[2m_base.py\u001b[0m\u001b]8;;\u001b\\\u001b[2m:\u001b[0m\u001b]8;id=216694;file://C:\\Users\\Valerij\\anaconda3\\envs\\pol_sub\\Lib\\site-packages\\polaris\\dataset\\_base.py#182\u001b\\\u001b[2m182\u001b[0m\u001b]8;;\u001b\\\n",
       "\u001b[2;36m                      \u001b[0m         enough, consider caching the dataset first using                        \u001b[2m            \u001b[0m\n",
       "\u001b[2;36m                      \u001b[0m         \u001b[1;35mCompetitionSpecification.cache\u001b[0m\u001b[1m(\u001b[0m\u001b[1m)\u001b[0m for more performant data access.       \u001b[2m            \u001b[0m\n"
      ]
     },
     "metadata": {},
     "output_type": "display_data"
    }
   ],
   "source": [
    "import polaris as po\n",
    "\n",
    "competition = po.load_competition(f\"asap-discovery/{CHALLENGE}\")"
   ]
  },
  {
   "cell_type": "markdown",
   "id": "5478ab20-ed4b-4f7d-a5bb-3618748de65a",
   "metadata": {},
   "source": [
    "As suggested in the logs, we'll cache the dataset. Note that this is not strictly necessary, but it does speed up later steps."
   ]
  },
  {
   "cell_type": "code",
   "execution_count": 6,
   "id": "d44d7a37-2119-42cd-a7eb-41daf5687660",
   "metadata": {},
   "outputs": [
    {
     "data": {
      "text/html": [
       "<pre style=\"white-space:pre;overflow-x:auto;line-height:normal;font-family:Menlo,'DejaVu Sans Mono',consolas,'Courier New',monospace\">C:\\Users\\Valerij\\anaconda3\\envs\\pol_sub\\Lib\\site-packages\\rich\\live.py:231: UserWarning: install \"ipywidgets\" for \n",
       "Jupyter support\n",
       "  warnings.warn('install \"ipywidgets\" for Jupyter support')\n",
       "</pre>\n"
      ],
      "text/plain": [
       "C:\\Users\\Valerij\\anaconda3\\envs\\pol_sub\\Lib\\site-packages\\rich\\live.py:231: UserWarning: install \"ipywidgets\" for \n",
       "Jupyter support\n",
       "  warnings.warn('install \"ipywidgets\" for Jupyter support')\n"
      ]
     },
     "metadata": {},
     "output_type": "display_data"
    },
    {
     "data": {
      "text/html": [
       "<pre style=\"white-space:pre;overflow-x:auto;line-height:normal;font-family:Menlo,'DejaVu Sans Mono',consolas,'Courier New',monospace\"><span style=\"color: #7fbfbf; text-decoration-color: #7fbfbf\">[19:07:27] </span><span style=\"color: #008000; text-decoration-color: #008000\">Copying to destination </span>                                                                     <a href=\"file://C:\\Users\\Valerij\\anaconda3\\envs\\pol_sub\\Lib\\site-packages\\polaris\\dataset\\_base.py\" target=\"_blank\"><span style=\"color: #7f7f7f; text-decoration-color: #7f7f7f\">_base.py</span></a><span style=\"color: #7f7f7f; text-decoration-color: #7f7f7f\">:</span><a href=\"file://C:\\Users\\Valerij\\anaconda3\\envs\\pol_sub\\Lib\\site-packages\\polaris\\dataset\\_base.py#381\" target=\"_blank\"><span style=\"color: #7f7f7f; text-decoration-color: #7f7f7f\">381</span></a>\n",
       "<span style=\"color: #7fbfbf; text-decoration-color: #7fbfbf\">           </span><span style=\"color: #008000; text-decoration-color: #008000\">C:\\Users\\Valerij\\AppData\\Local\\polaris\\polaris\\Cache\\datasets\\</span><span style=\"color: #008000; text-decoration-color: #008000\">d2431504-9a17-45e2-9764-5fbda</span> <span style=\"color: #7f7f7f; text-decoration-color: #7f7f7f\">            </span>\n",
       "<span style=\"color: #7fbfbf; text-decoration-color: #7fbfbf\">           </span><span style=\"color: #008000; text-decoration-color: #008000\">67ed209</span><span style=\"color: #008000; text-decoration-color: #008000\">\\data.zarr</span>                                                                           <span style=\"color: #7f7f7f; text-decoration-color: #7f7f7f\">            </span>\n",
       "</pre>\n"
      ],
      "text/plain": [
       "\u001b[2;36m[19:07:27]\u001b[0m\u001b[2;36m \u001b[0m\u001b[32mCopying to destination \u001b[0m                                                                     \u001b]8;id=847499;file://C:\\Users\\Valerij\\anaconda3\\envs\\pol_sub\\Lib\\site-packages\\polaris\\dataset\\_base.py\u001b\\\u001b[2m_base.py\u001b[0m\u001b]8;;\u001b\\\u001b[2m:\u001b[0m\u001b]8;id=579069;file://C:\\Users\\Valerij\\anaconda3\\envs\\pol_sub\\Lib\\site-packages\\polaris\\dataset\\_base.py#381\u001b\\\u001b[2m381\u001b[0m\u001b]8;;\u001b\\\n",
       "\u001b[2;36m           \u001b[0m\u001b[32mC:\\Users\\Valerij\\AppData\\Local\\polaris\\polaris\\Cache\\datasets\\\u001b[0m\u001b[32md2431504-9a17-45e2-9764-5fbda\u001b[0m \u001b[2m            \u001b[0m\n",
       "\u001b[2;36m           \u001b[0m\u001b[32m67ed209\u001b[0m\u001b[32m\\data.zarr\u001b[0m                                                                           \u001b[2m            \u001b[0m\n"
      ]
     },
     "metadata": {},
     "output_type": "display_data"
    },
    {
     "data": {
      "text/html": [
       "<pre style=\"white-space:pre;overflow-x:auto;line-height:normal;font-family:Menlo,'DejaVu Sans Mono',consolas,'Courier New',monospace\"><span style=\"color: #7fbfbf; text-decoration-color: #7fbfbf\">           </span><span style=\"color: #808000; text-decoration-color: #808000\">For large Zarr archives, this may take a while.</span>                                             <a href=\"file://C:\\Users\\Valerij\\anaconda3\\envs\\pol_sub\\Lib\\site-packages\\polaris\\dataset\\_base.py\" target=\"_blank\"><span style=\"color: #7f7f7f; text-decoration-color: #7f7f7f\">_base.py</span></a><span style=\"color: #7f7f7f; text-decoration-color: #7f7f7f\">:</span><a href=\"file://C:\\Users\\Valerij\\anaconda3\\envs\\pol_sub\\Lib\\site-packages\\polaris\\dataset\\_base.py#382\" target=\"_blank\"><span style=\"color: #7f7f7f; text-decoration-color: #7f7f7f\">382</span></a>\n",
       "</pre>\n"
      ],
      "text/plain": [
       "\u001b[2;36m          \u001b[0m\u001b[2;36m \u001b[0m\u001b[33mFor large Zarr archives, this may take a while.\u001b[0m                                             \u001b]8;id=392177;file://C:\\Users\\Valerij\\anaconda3\\envs\\pol_sub\\Lib\\site-packages\\polaris\\dataset\\_base.py\u001b\\\u001b[2m_base.py\u001b[0m\u001b]8;;\u001b\\\u001b[2m:\u001b[0m\u001b]8;id=468725;file://C:\\Users\\Valerij\\anaconda3\\envs\\pol_sub\\Lib\\site-packages\\polaris\\dataset\\_base.py#382\u001b\\\u001b[2m382\u001b[0m\u001b]8;;\u001b\\\n"
      ]
     },
     "metadata": {},
     "output_type": "display_data"
    },
    {
     "data": {
      "text/html": [
       "<pre style=\"white-space:pre;overflow-x:auto;line-height:normal;font-family:Menlo,'DejaVu Sans Mono',consolas,'Courier New',monospace\"><span style=\"color: #7fbfbf; text-decoration-color: #7fbfbf\">[19:07:29] </span><span style=\"color: #008000; text-decoration-color: #008000\"> Success: Copying Zarr keys</span>                                                                <a href=\"file://C:\\Users\\Valerij\\anaconda3\\envs\\pol_sub\\Lib\\site-packages\\polaris\\utils\\context.py\" target=\"_blank\"><span style=\"color: #7f7f7f; text-decoration-color: #7f7f7f\">context.py</span></a><span style=\"color: #7f7f7f; text-decoration-color: #7f7f7f\">:</span><a href=\"file://C:\\Users\\Valerij\\anaconda3\\envs\\pol_sub\\Lib\\site-packages\\polaris\\utils\\context.py#53\" target=\"_blank\"><span style=\"color: #7f7f7f; text-decoration-color: #7f7f7f\">53</span></a>\n",
       "</pre>\n"
      ],
      "text/plain": [
       "\u001b[2;36m[19:07:29]\u001b[0m\u001b[2;36m \u001b[0m\u001b[32m Success: Copying Zarr keys\u001b[0m                                                                \u001b]8;id=972690;file://C:\\Users\\Valerij\\anaconda3\\envs\\pol_sub\\Lib\\site-packages\\polaris\\utils\\context.py\u001b\\\u001b[2mcontext.py\u001b[0m\u001b]8;;\u001b\\\u001b[2m:\u001b[0m\u001b]8;id=884000;file://C:\\Users\\Valerij\\anaconda3\\envs\\pol_sub\\Lib\\site-packages\\polaris\\utils\\context.py#53\u001b\\\u001b[2m53\u001b[0m\u001b]8;;\u001b\\\n"
      ]
     },
     "metadata": {},
     "output_type": "display_data"
    },
    {
     "data": {
      "text/html": [
       "<pre style=\"white-space:pre;overflow-x:auto;line-height:normal;font-family:Menlo,'DejaVu Sans Mono',consolas,'Courier New',monospace\"><span style=\"color: #7fbfbf; text-decoration-color: #7fbfbf\">           </span><span style=\"color: #008000; text-decoration-color: #008000\"> Success: Copying Zarr archive</span>                                                             <a href=\"file://C:\\Users\\Valerij\\anaconda3\\envs\\pol_sub\\Lib\\site-packages\\polaris\\utils\\context.py\" target=\"_blank\"><span style=\"color: #7f7f7f; text-decoration-color: #7f7f7f\">context.py</span></a><span style=\"color: #7f7f7f; text-decoration-color: #7f7f7f\">:</span><a href=\"file://C:\\Users\\Valerij\\anaconda3\\envs\\pol_sub\\Lib\\site-packages\\polaris\\utils\\context.py#53\" target=\"_blank\"><span style=\"color: #7f7f7f; text-decoration-color: #7f7f7f\">53</span></a>\n",
       "</pre>\n"
      ],
      "text/plain": [
       "\u001b[2;36m          \u001b[0m\u001b[2;36m \u001b[0m\u001b[32m Success: Copying Zarr archive\u001b[0m                                                             \u001b]8;id=742367;file://C:\\Users\\Valerij\\anaconda3\\envs\\pol_sub\\Lib\\site-packages\\polaris\\utils\\context.py\u001b\\\u001b[2mcontext.py\u001b[0m\u001b]8;;\u001b\\\u001b[2m:\u001b[0m\u001b]8;id=144090;file://C:\\Users\\Valerij\\anaconda3\\envs\\pol_sub\\Lib\\site-packages\\polaris\\utils\\context.py#53\u001b\\\u001b[2m53\u001b[0m\u001b]8;;\u001b\\\n"
      ]
     },
     "metadata": {},
     "output_type": "display_data"
    },
    {
     "data": {
      "text/html": [
       "<pre style=\"white-space:pre;overflow-x:auto;line-height:normal;font-family:Menlo,'DejaVu Sans Mono',consolas,'Courier New',monospace\"></pre>\n"
      ],
      "text/plain": []
     },
     "metadata": {},
     "output_type": "display_data"
    },
    {
     "data": {
      "text/plain": [
       "'C:\\\\Users\\\\Valerij\\\\AppData\\\\Local\\\\polaris\\\\polaris\\\\Cache\\\\datasets\\\\d2431504-9a17-45e2-9764-5fbda67ed209'"
      ]
     },
     "execution_count": 6,
     "metadata": {},
     "output_type": "execute_result"
    }
   ],
   "source": [
    "competition.cache()"
   ]
  },
  {
   "cell_type": "markdown",
   "id": "a2455a1a-ef57-4e04-9d0c-47553c5e8059",
   "metadata": {},
   "source": [
    "Let's get the train and test set and take a look at the data structure."
   ]
  },
  {
   "cell_type": "code",
   "execution_count": 7,
   "id": "46c34cf4-31fd-4de1-8b18-0694a2a25d29",
   "metadata": {},
   "outputs": [],
   "source": [
    "train, test = competition.get_train_test_split()"
   ]
  },
  {
   "cell_type": "code",
   "execution_count": 8,
   "id": "dfa8d6c9-7274-4a30-937a-08e7a87974ce",
   "metadata": {},
   "outputs": [
    {
     "data": {
      "text/plain": [
       "('COC1=CC=CC(Cl)=C1NC(=O)N1CCC[C@H](C(N)=O)C1 |a:16|',\n",
       " {'LogD': 0.3, 'MDR1-MDCKII': 2.0, 'HLM': nan, 'MLM': nan, 'KSOL': nan})"
      ]
     },
     "execution_count": 8,
     "metadata": {},
     "output_type": "execute_result"
    }
   ],
   "source": [
    "train[0]"
   ]
  },
  {
   "cell_type": "code",
   "execution_count": 9,
   "id": "f9847194-922d-4068-9d12-228ed4ef3f32",
   "metadata": {},
   "outputs": [
    {
     "name": "stdout",
     "output_type": "stream",
     "text": [
      "<polaris.dataset._subset.Subset object at 0x00000254A553BA40>\n"
     ]
    }
   ],
   "source": [
    "print(test)"
   ]
  },
  {
   "cell_type": "code",
   "execution_count": 10,
   "id": "ec22ca4b-395b-407f-93e6-2879a6d18004",
   "metadata": {},
   "outputs": [
    {
     "data": {
      "text/plain": [
       "'CC(C)[C@H]1C2=C(CCN1C(=O)CC1=CN=CC3=CC=CC=C13)SC=C2 |o1:3|'"
      ]
     },
     "execution_count": 10,
     "metadata": {},
     "output_type": "execute_result"
    }
   ],
   "source": [
    "test[0]"
   ]
  },
  {
   "cell_type": "code",
   "execution_count": 11,
   "id": "aac63c1a-e435-4776-9987-c52b46d27efb",
   "metadata": {},
   "outputs": [
    {
     "name": "stdout",
     "output_type": "stream",
     "text": [
      "126\n"
     ]
    }
   ],
   "source": [
    "print(len(test))"
   ]
  },
  {
   "cell_type": "code",
   "execution_count": 12,
   "id": "edb945d3-c7f5-4e7e-b1af-f3cceb1fcba3",
   "metadata": {},
   "outputs": [],
   "source": [
    "import pandas as pd\n",
    "\n",
    "df = pd.read_csv(\"antiviral_admet_predictions.csv\")"
   ]
  },
  {
   "cell_type": "code",
   "execution_count": 13,
   "id": "91e2d159-92a6-43dd-8601-0edb55b9a071",
   "metadata": {},
   "outputs": [
    {
     "data": {
      "text/html": [
       "<div>\n",
       "<style scoped>\n",
       "    .dataframe tbody tr th:only-of-type {\n",
       "        vertical-align: middle;\n",
       "    }\n",
       "\n",
       "    .dataframe tbody tr th {\n",
       "        vertical-align: top;\n",
       "    }\n",
       "\n",
       "    .dataframe thead th {\n",
       "        text-align: right;\n",
       "    }\n",
       "</style>\n",
       "<table border=\"1\" class=\"dataframe\">\n",
       "  <thead>\n",
       "    <tr style=\"text-align: right;\">\n",
       "      <th></th>\n",
       "      <th>SMILES</th>\n",
       "      <th>in-vitro_HLM_bienta: CLint (Num) (uL/min/mg)</th>\n",
       "      <th>in-vitro_KSOL-PBS_bienta: mean_solubility (Num) (uM)</th>\n",
       "      <th>in-vitro_LogD_bienta: LogD (Num)</th>\n",
       "      <th>in-vitro_MDR1-MDCKII-Papp_bienta: mean_Papp_A_to_B (Num) (10^-6 cm/s)</th>\n",
       "      <th>in-vitro_MLM_bienta: CLint (Num) (uL/min/mg)</th>\n",
       "    </tr>\n",
       "  </thead>\n",
       "  <tbody>\n",
       "    <tr>\n",
       "      <th>0</th>\n",
       "      <td>CC(C)[C@H]1C2=C(CCN1C(=O)CC1=CN=CC3=CC=CC=C13)...</td>\n",
       "      <td>220.971471</td>\n",
       "      <td>254.368055</td>\n",
       "      <td>2.903119</td>\n",
       "      <td>12.420424</td>\n",
       "      <td>345.842936</td>\n",
       "    </tr>\n",
       "    <tr>\n",
       "      <th>1</th>\n",
       "      <td>CC(C)C1(C)CCN(C(=O)CC2=CN=CC3=CC=CC=C23)CC1</td>\n",
       "      <td>229.144458</td>\n",
       "      <td>251.732889</td>\n",
       "      <td>3.238782</td>\n",
       "      <td>17.729760</td>\n",
       "      <td>347.774639</td>\n",
       "    </tr>\n",
       "    <tr>\n",
       "      <th>2</th>\n",
       "      <td>O=C(CC1=CN=CC2=CC=CC=C12)N1CCC2=C(C=CS2)C12CCC2</td>\n",
       "      <td>211.390603</td>\n",
       "      <td>290.660625</td>\n",
       "      <td>2.821505</td>\n",
       "      <td>17.055120</td>\n",
       "      <td>370.460577</td>\n",
       "    </tr>\n",
       "    <tr>\n",
       "      <th>3</th>\n",
       "      <td>CC1(CC(F)(F)F)CCN(C(=O)CC2=CN=CC3=CC=CC=C23)CC1</td>\n",
       "      <td>204.494985</td>\n",
       "      <td>193.597737</td>\n",
       "      <td>3.770655</td>\n",
       "      <td>17.758855</td>\n",
       "      <td>304.119910</td>\n",
       "    </tr>\n",
       "    <tr>\n",
       "      <th>4</th>\n",
       "      <td>CCC1=CC=C([C@H]2C[C@H](C)CCN2C(=O)CC2=CN=CC3=C...</td>\n",
       "      <td>192.872860</td>\n",
       "      <td>260.140832</td>\n",
       "      <td>2.757594</td>\n",
       "      <td>13.480864</td>\n",
       "      <td>325.786526</td>\n",
       "    </tr>\n",
       "    <tr>\n",
       "      <th>...</th>\n",
       "      <td>...</td>\n",
       "      <td>...</td>\n",
       "      <td>...</td>\n",
       "      <td>...</td>\n",
       "      <td>...</td>\n",
       "      <td>...</td>\n",
       "    </tr>\n",
       "    <tr>\n",
       "      <th>121</th>\n",
       "      <td>C[C@H]1CN(C2=CN=CC3=CC=CC=C23)C(=O)[C@@]12CN(C...</td>\n",
       "      <td>123.307702</td>\n",
       "      <td>361.952245</td>\n",
       "      <td>1.858892</td>\n",
       "      <td>6.127117</td>\n",
       "      <td>236.509169</td>\n",
       "    </tr>\n",
       "    <tr>\n",
       "      <th>122</th>\n",
       "      <td>C[C@H]1CN(C2=CN=CC3=CC=CC=C23)C(=O)[C@@]12CN(C...</td>\n",
       "      <td>121.835544</td>\n",
       "      <td>363.217492</td>\n",
       "      <td>1.839692</td>\n",
       "      <td>5.971129</td>\n",
       "      <td>233.844745</td>\n",
       "    </tr>\n",
       "    <tr>\n",
       "      <th>123</th>\n",
       "      <td>COC[C@H]1CN(C2=CN=CC3=CC=CC=C23)C(=O)[C@@]12CN...</td>\n",
       "      <td>83.323647</td>\n",
       "      <td>379.526509</td>\n",
       "      <td>1.555967</td>\n",
       "      <td>4.398426</td>\n",
       "      <td>179.845488</td>\n",
       "    </tr>\n",
       "    <tr>\n",
       "      <th>124</th>\n",
       "      <td>C[C@H]1CN(C2=CN=CC3=CC=CC=C23)C(=O)[C@@]12CN(C...</td>\n",
       "      <td>111.726419</td>\n",
       "      <td>407.768852</td>\n",
       "      <td>1.653481</td>\n",
       "      <td>6.855751</td>\n",
       "      <td>218.133738</td>\n",
       "    </tr>\n",
       "    <tr>\n",
       "      <th>125</th>\n",
       "      <td>CC1=NC=C(CN2C[C@@]3(C(=O)N(C4=CN=CC5=CC=CC=C45...</td>\n",
       "      <td>131.663364</td>\n",
       "      <td>358.819259</td>\n",
       "      <td>1.952917</td>\n",
       "      <td>6.532770</td>\n",
       "      <td>244.517715</td>\n",
       "    </tr>\n",
       "  </tbody>\n",
       "</table>\n",
       "<p>126 rows × 6 columns</p>\n",
       "</div>"
      ],
      "text/plain": [
       "                                                SMILES  \\\n",
       "0    CC(C)[C@H]1C2=C(CCN1C(=O)CC1=CN=CC3=CC=CC=C13)...   \n",
       "1          CC(C)C1(C)CCN(C(=O)CC2=CN=CC3=CC=CC=C23)CC1   \n",
       "2      O=C(CC1=CN=CC2=CC=CC=C12)N1CCC2=C(C=CS2)C12CCC2   \n",
       "3      CC1(CC(F)(F)F)CCN(C(=O)CC2=CN=CC3=CC=CC=C23)CC1   \n",
       "4    CCC1=CC=C([C@H]2C[C@H](C)CCN2C(=O)CC2=CN=CC3=C...   \n",
       "..                                                 ...   \n",
       "121  C[C@H]1CN(C2=CN=CC3=CC=CC=C23)C(=O)[C@@]12CN(C...   \n",
       "122  C[C@H]1CN(C2=CN=CC3=CC=CC=C23)C(=O)[C@@]12CN(C...   \n",
       "123  COC[C@H]1CN(C2=CN=CC3=CC=CC=C23)C(=O)[C@@]12CN...   \n",
       "124  C[C@H]1CN(C2=CN=CC3=CC=CC=C23)C(=O)[C@@]12CN(C...   \n",
       "125  CC1=NC=C(CN2C[C@@]3(C(=O)N(C4=CN=CC5=CC=CC=C45...   \n",
       "\n",
       "     in-vitro_HLM_bienta: CLint (Num) (uL/min/mg)  \\\n",
       "0                                      220.971471   \n",
       "1                                      229.144458   \n",
       "2                                      211.390603   \n",
       "3                                      204.494985   \n",
       "4                                      192.872860   \n",
       "..                                            ...   \n",
       "121                                    123.307702   \n",
       "122                                    121.835544   \n",
       "123                                     83.323647   \n",
       "124                                    111.726419   \n",
       "125                                    131.663364   \n",
       "\n",
       "     in-vitro_KSOL-PBS_bienta: mean_solubility (Num) (uM)  \\\n",
       "0                                           254.368055      \n",
       "1                                           251.732889      \n",
       "2                                           290.660625      \n",
       "3                                           193.597737      \n",
       "4                                           260.140832      \n",
       "..                                                 ...      \n",
       "121                                         361.952245      \n",
       "122                                         363.217492      \n",
       "123                                         379.526509      \n",
       "124                                         407.768852      \n",
       "125                                         358.819259      \n",
       "\n",
       "     in-vitro_LogD_bienta: LogD (Num)  \\\n",
       "0                            2.903119   \n",
       "1                            3.238782   \n",
       "2                            2.821505   \n",
       "3                            3.770655   \n",
       "4                            2.757594   \n",
       "..                                ...   \n",
       "121                          1.858892   \n",
       "122                          1.839692   \n",
       "123                          1.555967   \n",
       "124                          1.653481   \n",
       "125                          1.952917   \n",
       "\n",
       "     in-vitro_MDR1-MDCKII-Papp_bienta: mean_Papp_A_to_B (Num) (10^-6 cm/s)  \\\n",
       "0                                            12.420424                       \n",
       "1                                            17.729760                       \n",
       "2                                            17.055120                       \n",
       "3                                            17.758855                       \n",
       "4                                            13.480864                       \n",
       "..                                                 ...                       \n",
       "121                                           6.127117                       \n",
       "122                                           5.971129                       \n",
       "123                                           4.398426                       \n",
       "124                                           6.855751                       \n",
       "125                                           6.532770                       \n",
       "\n",
       "     in-vitro_MLM_bienta: CLint (Num) (uL/min/mg)  \n",
       "0                                      345.842936  \n",
       "1                                      347.774639  \n",
       "2                                      370.460577  \n",
       "3                                      304.119910  \n",
       "4                                      325.786526  \n",
       "..                                            ...  \n",
       "121                                    236.509169  \n",
       "122                                    233.844745  \n",
       "123                                    179.845488  \n",
       "124                                    218.133738  \n",
       "125                                    244.517715  \n",
       "\n",
       "[126 rows x 6 columns]"
      ]
     },
     "execution_count": 13,
     "metadata": {},
     "output_type": "execute_result"
    }
   ],
   "source": [
    "df"
   ]
  },
  {
   "cell_type": "code",
   "execution_count": 14,
   "id": "3e92136b-aea5-40bc-8756-8556dbf74287",
   "metadata": {},
   "outputs": [
    {
     "data": {
      "text/plain": [
       "{'HLM', 'KSOL', 'LogD', 'MDR1-MDCKII', 'MLM'}"
      ]
     },
     "execution_count": 14,
     "metadata": {},
     "output_type": "execute_result"
    }
   ],
   "source": [
    "competition.target_cols"
   ]
  },
  {
   "cell_type": "code",
   "execution_count": 15,
   "id": "b67756d2-3569-4375-8de2-86f597b755be",
   "metadata": {},
   "outputs": [
    {
     "data": {
      "text/plain": [
       "['LogD', 'MDR1-MDCKII', 'HLM', 'MLM', 'KSOL']"
      ]
     },
     "execution_count": 15,
     "metadata": {},
     "output_type": "execute_result"
    }
   ],
   "source": [
    "test.target_cols"
   ]
  },
  {
   "cell_type": "code",
   "execution_count": 16,
   "id": "2f53b2a5-3563-4d17-b8b9-d5166e5bbc64",
   "metadata": {},
   "outputs": [
    {
     "data": {
      "text/plain": [
       "{'HLM', 'KSOL', 'LogD', 'MDR1-MDCKII', 'MLM'}"
      ]
     },
     "execution_count": 16,
     "metadata": {},
     "output_type": "execute_result"
    }
   ],
   "source": [
    "competition.target_cols"
   ]
  },
  {
   "cell_type": "markdown",
   "id": "ae44540f-ff75-475b-8e23-1a7d2134cdcf",
   "metadata": {},
   "source": [
    "An interesting idea would be to build a multi-task model to leverage shared information across tasks.\n",
    "\n",
    "For the sake of simplicity, however, we'll simply build a model per target here. "
   ]
  },
  {
   "cell_type": "code",
   "execution_count": 18,
   "id": "7e33e473-6eb7-4da8-a984-fd631b1ed143",
   "metadata": {},
   "outputs": [
    {
     "name": "stdout",
     "output_type": "stream",
     "text": [
      "{'LogD': array([2.90311869, 3.23878179, 2.82150548, 3.77065468, 2.75759425,\n",
      "       2.44502287, 2.31011526, 3.22961067, 2.63879609, 1.86546174,\n",
      "       1.38034722, 3.25016698, 1.52752823, 2.77672298, 2.03518505,\n",
      "       2.68948779, 3.182039  , 2.83074764, 1.61751372, 2.65514812,\n",
      "       1.52488646, 2.66826722, 3.20429655, 3.32395187, 2.99052032,\n",
      "       3.2179227 , 2.71055993, 2.72601597, 2.64811014, 3.07920115,\n",
      "       2.34668639, 2.76325072, 2.12797874, 2.71055993, 2.70768236,\n",
      "       2.54780705, 2.5611781 , 2.57417965, 3.25543723, 2.56659812,\n",
      "       2.60731789, 2.87407159, 2.78933192, 2.36728634, 2.60560618,\n",
      "       2.84286676, 2.80680726, 2.80680726, 2.43537982, 3.10623497,\n",
      "       3.22278045, 2.63859917, 2.89409214, 2.7862296 , 2.52843503,\n",
      "       2.90482387, 2.14712671, 2.59763526, 2.82003321, 2.45143712,\n",
      "       3.1965778 , 2.92393472, 2.86444078, 2.4555389 , 2.81912168,\n",
      "       1.01228738, 2.69156751, 2.71158931, 1.03106759, 0.96460586,\n",
      "       1.46036412, 1.24580071, 0.61411928, 1.35960766, 1.39291507,\n",
      "       0.61411928, 0.84332281, 0.61411928, 0.99556714, 0.99774807,\n",
      "       1.57336022, 1.345955  , 1.05029517, 1.49055534, 1.61049796,\n",
      "       1.03386347, 2.89677637, 1.32823463, 1.53397005, 1.2742392 ,\n",
      "       1.51863772, 1.4527012 , 1.60180779, 1.30753345, 1.33118773,\n",
      "       1.57996317, 1.83943893, 1.5623443 , 1.2142015 , 1.22289473,\n",
      "       1.56380826, 1.56234428, 1.57396283, 1.58492024, 1.84682048,\n",
      "       1.57439343, 1.22585478, 1.4018889 , 1.21649609, 1.54341199,\n",
      "       1.57714614, 1.56184063, 1.84139371, 1.85445538, 1.75676487,\n",
      "       1.79332744, 1.94221453, 1.9145599 , 1.62138903, 1.77077529,\n",
      "       1.87982744, 1.85889155, 1.83969242, 1.55596732, 1.65348129,\n",
      "       1.95291701]), 'MDR1-MDCKII': array([12.42042403, 17.72976007, 17.05511992, 17.75885514, 13.48086388,\n",
      "       10.13833246,  9.87590646, 17.4905707 , 15.32360694,  2.49035023,\n",
      "        2.73645819, 15.60825628,  3.32592178, 15.61492938,  3.00465033,\n",
      "       14.83736525, 16.98035784, 15.60644365,  3.54107047, 14.01503031,\n",
      "        3.24701695, 14.73183457, 16.39933616, 18.20290802,  7.4348771 ,\n",
      "        9.59652803, 11.34876479, 14.38457505, 13.49188019,  7.43081426,\n",
      "       10.72323854, 11.54640378,  8.96133967, 11.34876479, 13.46265808,\n",
      "       14.23698552, 13.2717091 , 14.25081094, 10.40650402, 14.31389735,\n",
      "       14.4569384 , 15.07577413, 15.17366698, 10.27632521, 11.53145011,\n",
      "       14.53808918, 12.38756645, 12.38756645, 13.31383355,  8.24014457,\n",
      "        9.31786584, 11.03492589, 15.5243947 , 15.01628265, 14.13460256,\n",
      "       15.43021008,  9.04113979, 14.39250288, 14.73880485, 13.28418176,\n",
      "        9.25226402, 15.82754468, 15.6246713 , 13.3190419 , 15.51246832,\n",
      "        2.09686027,  0.81136324,  1.00424764, -1.2961758 , -0.26895513,\n",
      "        3.10522232,  3.16082022, -1.74318741,  2.29966973,  2.71425507,\n",
      "       -1.74318741,  0.84276168, -1.74318741, -1.39248381,  0.34221984,\n",
      "        7.19430219,  3.96067648,  0.38324801,  3.61604575,  7.46229227,\n",
      "        0.63961874,  9.18741371,  5.08582458,  3.35079232,  3.79560865,\n",
      "        1.62558664,  5.90097868,  7.41548477,  7.2092544 ,  3.91091078,\n",
      "        7.3369625 ,  8.75015881,  7.15694104,  6.09855593,  6.55631822,\n",
      "        7.45405358,  7.15694098,  7.49085851,  7.17257112,  9.37192189,\n",
      "        7.13685456,  1.24482426,  2.39484158,  1.39323725,  9.62046702,\n",
      "        4.57994571,  4.42437095,  6.19187508,  6.18263331,  4.97111012,\n",
      "        5.51992795,  6.45229559,  5.88581047,  4.89225007,  5.33673269,\n",
      "        6.36837792,  6.12711703,  5.97112884,  4.39842643,  6.85575125,\n",
      "        6.53276987]), 'HLM': array([220.97147066, 229.14445769, 211.390603  , 204.49498455,\n",
      "       192.87285973, 171.38727681, 167.80313979, 218.05902828,\n",
      "       174.59699397,  87.93662108,  55.37104295, 185.55816575,\n",
      "        70.94504714, 192.03097733, 104.10330632, 196.36454996,\n",
      "       221.09205456, 200.98553483,  79.43289657, 198.51449552,\n",
      "        71.56285666, 171.20343427, 199.86989261, 228.64643405,\n",
      "       159.26098625, 171.42399498, 202.10979807, 195.45974438,\n",
      "       193.11758426, 159.74131773, 163.75791163, 194.0891026 ,\n",
      "       145.60621031, 202.10979807, 190.1725252 , 170.80422675,\n",
      "       186.8702419 , 167.87947079, 195.39163928, 174.13554826,\n",
      "       176.29286244, 195.35740563, 194.52045289, 167.68067728,\n",
      "       182.68623317, 195.45709021, 208.1592777 , 208.1592777 ,\n",
      "       165.36034022, 164.22530392, 168.2266646 , 189.64483067,\n",
      "       194.58722209, 197.01356162, 171.19672066, 204.64273394,\n",
      "       147.7670915 , 176.82868939, 201.86999614, 160.5509627 ,\n",
      "       166.11920212, 203.78745489, 199.66544092, 167.4389888 ,\n",
      "       195.02107308,  18.72582869,  73.76752293,  81.02807694,\n",
      "        34.66212294,  17.95134639,  64.65999856,  54.28984584,\n",
      "        -6.42278527,  63.47811315,  55.52841758,  -6.42278527,\n",
      "         5.80341917,  -6.42278527,  29.85231826,  20.37957747,\n",
      "        96.65105919,  66.98171144,  26.77515255,  69.32378644,\n",
      "       102.80004616,  24.25082624, 211.61725994,  66.4993003 ,\n",
      "        70.15826479,  49.29744161,  96.92152662,  78.35025546,\n",
      "        99.70279537,  68.85323656,  65.34712891,  97.71861958,\n",
      "       122.79905363,  95.60805248,  57.31279969,  58.99762015,\n",
      "        95.88945986,  95.60805681,  96.73706696,  98.41393661,\n",
      "       128.56615043,  97.32716579,  41.4834413 ,  70.85634285,\n",
      "        40.78999475,  98.23615157,  86.19388413,  83.62227259,\n",
      "       121.52822461, 121.92306311, 106.41349671, 114.29097358,\n",
      "       130.15282504, 122.85530157, 115.64767935, 111.08521536,\n",
      "       124.21981577, 123.30770183, 121.8355439 ,  83.32364735,\n",
      "       111.72641876, 131.66336433]), 'MLM': array([345.8429357 , 347.77463916, 370.4605767 , 304.11991038,\n",
      "       325.78652598, 325.46928128, 285.14510516, 339.39471162,\n",
      "       314.00111353, 142.74386482, 132.85019779, 301.94823365,\n",
      "       152.60994624, 334.07237809, 160.56309171, 328.33297379,\n",
      "       351.78478879, 329.8351989 , 160.69405857, 316.3927262 ,\n",
      "       153.11981244, 306.12033107, 318.77993206, 343.82180231,\n",
      "       334.59662885, 307.45886937, 346.27830046, 342.15793467,\n",
      "       343.56303003, 321.74790502, 321.59958411, 358.49084256,\n",
      "       302.73273457, 346.27830046, 355.69694563, 309.60702551,\n",
      "       337.31059176, 317.87185965, 325.14938782, 311.58482669,\n",
      "       313.92037702, 349.23384769, 339.34603519, 317.24120892,\n",
      "       323.33816954, 354.42115599, 349.1334526 , 349.1334526 ,\n",
      "       306.49927374, 349.1618046 , 303.0066358 , 351.20625536,\n",
      "       343.76970316, 339.72241472, 308.31550417, 346.19510543,\n",
      "       304.42221723, 313.69260982, 348.08181979, 315.20396938,\n",
      "       313.70549819, 341.6810511 , 338.0129907 , 307.22334528,\n",
      "       335.31073923,  79.8595733 , 205.73479217, 227.33686105,\n",
      "        43.94514405,  45.99101085, 147.64381952, 124.34805778,\n",
      "       -43.81378939, 127.28305149, 129.40834705, -43.81378939,\n",
      "        45.11231605, -43.81378939,  38.19869628,  57.4318548 ,\n",
      "       194.49513726, 142.50017837,  60.93957155, 163.00800662,\n",
      "       215.03651195,  67.41814695, 349.30137847, 161.54763889,\n",
      "       151.61136419, 133.22406027, 143.57321436, 170.64976415,\n",
      "       198.97151966, 172.45044991, 140.92739074, 196.64961901,\n",
      "       231.4364177 , 193.35778043, 153.72800408, 157.53770422,\n",
      "       199.11093787, 193.357784  , 200.18378982, 195.65641558,\n",
      "       234.23548286, 194.41155082,  91.5947908 , 139.69750576,\n",
      "        93.75180489, 215.46079741, 184.51855739, 180.3569563 ,\n",
      "       240.47326433, 237.72601338, 202.90792154, 218.96901917,\n",
      "       242.46738006, 226.94560983, 194.57360362, 214.26707866,\n",
      "       241.20969414, 236.50916919, 233.84474466, 179.84548826,\n",
      "       218.13373798, 244.51771464]), 'KSOL': array([254.36805539, 251.73288946, 290.66062454, 193.59773664,\n",
      "       260.14083243, 229.90656154, 266.91110426, 243.82916206,\n",
      "       264.42278928, 325.77646497, 362.13737339, 223.85639046,\n",
      "       353.83586852, 255.85957839, 313.87695708, 283.96629813,\n",
      "       234.92680162, 267.36110052, 347.3900714 , 307.49754652,\n",
      "       353.92404101, 266.10168407, 234.71841467, 242.54182046,\n",
      "       122.96789914, 135.71721744, 239.25713411, 257.73271477,\n",
      "       265.38962944, 115.43081914, 242.53732598, 209.13823783,\n",
      "       248.20945491, 239.25713411, 231.23823071, 265.0905878 ,\n",
      "       272.29844965, 245.77463128, 144.60384776, 269.86438111,\n",
      "       263.51594312, 225.25076042, 249.13723187, 243.98443335,\n",
      "       232.59351039, 224.27254659, 242.19051748, 242.19051748,\n",
      "       275.01886799, 119.17106621, 132.03325264, 218.69589597,\n",
      "       226.41305819, 253.21350048, 270.44629898, 245.50195896,\n",
      "       246.54214661, 267.42734742, 251.28780199, 251.10739466,\n",
      "       132.09828736, 245.18192505, 248.00211512, 276.83914987,\n",
      "       248.94888632, 400.94034408,  63.88385803,  60.50066714,\n",
      "       415.79243363, 403.96331165, 357.1069193 , 418.64594626,\n",
      "       476.77877399, 399.22579073, 358.31355511, 476.77877399,\n",
      "       421.92001762, 476.77877399, 415.76168541, 402.39962537,\n",
      "       415.74212875, 416.88069785, 408.10720641, 355.14372031,\n",
      "       406.79088768, 396.32659924, 190.78954129, 417.1289238 ,\n",
      "       351.9892539 , 395.770913  , 415.82171438, 413.21592713,\n",
      "       415.75458411, 436.29216661, 417.4118074 , 417.79461177,\n",
      "       405.62890768, 416.79140144, 442.55643599, 442.56842694,\n",
      "       411.24830005, 416.79139573, 410.34067281, 418.30840297,\n",
      "       404.86077324, 419.29262001, 381.01076642, 400.38426099,\n",
      "       379.40459982, 437.668796  , 379.37840721, 379.36250303,\n",
      "       361.65016307, 364.7829211 , 362.33790487, 363.77881526,\n",
      "       359.07060078, 356.61713664, 419.59855479, 364.74274857,\n",
      "       362.14250951, 361.95224456, 363.21749232, 379.52650875,\n",
      "       407.7688523 , 358.81925909])}\n"
     ]
    }
   ],
   "source": [
    "y_pred = {}\n",
    "\n",
    "for tgt in competition.target_cols:\n",
    "    if tgt == \"HLM\":\n",
    "        y_pred[tgt] = df[\"in-vitro_HLM_bienta: CLint (Num) (uL/min/mg)\"].values  # Assign SARS values\n",
    "    elif tgt == \"KSOL\":\n",
    "        y_pred[tgt] = df[\"in-vitro_KSOL-PBS_bienta: mean_solubility (Num) (uM)\"].values  # Assign MERS values\n",
    "    elif tgt == \"LogD\":\n",
    "        y_pred[tgt] = df[\"in-vitro_LogD_bienta: LogD (Num)\"].values  # Assign MERS values\n",
    "    elif tgt == \"MDR1-MDCKII\":\n",
    "        y_pred[tgt] = df[\"in-vitro_MDR1-MDCKII-Papp_bienta: mean_Papp_A_to_B (Num) (10^-6 cm/s)\"].values  # Assign MERS values\n",
    "    elif tgt == \"MLM\":\n",
    "        y_pred[tgt] = df[\"in-vitro_MLM_bienta: CLint (Num) (uL/min/mg)\"].values  # Assign MERS values\n",
    "\n",
    "# Check the output\n",
    "print(y_pred)\n"
   ]
  },
  {
   "cell_type": "code",
   "execution_count": 19,
   "id": "6dc85903-c956-4418-ac9c-78303ad76cbe",
   "metadata": {},
   "outputs": [
    {
     "name": "stdout",
     "output_type": "stream",
     "text": [
      "LogD\n",
      "MDR1-MDCKII\n",
      "HLM\n",
      "MLM\n",
      "KSOL\n"
     ]
    }
   ],
   "source": [
    "for tgt in competition.target_cols:\n",
    "    print(tgt)"
   ]
  },
  {
   "cell_type": "markdown",
   "id": "820563e3-e372-4fdc-b038-259d24c5e0d8",
   "metadata": {},
   "source": [
    "## Submit your predictions\n",
    "Submitting your predictions to the competition is simple."
   ]
  },
  {
   "cell_type": "code",
   "execution_count": 21,
   "id": "3cc2cdc2-03c9-4e4c-a4ed-c9dd984f4e17",
   "metadata": {},
   "outputs": [
    {
     "data": {
      "text/html": [
       "<pre style=\"white-space:pre;overflow-x:auto;line-height:normal;font-family:Menlo,'DejaVu Sans Mono',consolas,'Courier New',monospace\">C:\\Users\\Valerij\\anaconda3\\envs\\pol_sub\\Lib\\site-packages\\rich\\live.py:231: UserWarning: install \"ipywidgets\" for \n",
       "Jupyter support\n",
       "  warnings.warn('install \"ipywidgets\" for Jupyter support')\n",
       "</pre>\n"
      ],
      "text/plain": [
       "C:\\Users\\Valerij\\anaconda3\\envs\\pol_sub\\Lib\\site-packages\\rich\\live.py:231: UserWarning: install \"ipywidgets\" for \n",
       "Jupyter support\n",
       "  warnings.warn('install \"ipywidgets\" for Jupyter support')\n"
      ]
     },
     "metadata": {},
     "output_type": "display_data"
    },
    {
     "data": {
      "text/html": [
       "<pre style=\"white-space:pre;overflow-x:auto;line-height:normal;font-family:Menlo,'DejaVu Sans Mono',consolas,'Courier New',monospace\"><span style=\"color: #7fbfbf; text-decoration-color: #7fbfbf\">[19:09:52] </span><span style=\"color: #008000; text-decoration-color: #008000\"> Success: Submitting competition predictions</span>                                               <a href=\"file://C:\\Users\\Valerij\\anaconda3\\envs\\pol_sub\\Lib\\site-packages\\polaris\\utils\\context.py\" target=\"_blank\"><span style=\"color: #7f7f7f; text-decoration-color: #7f7f7f\">context.py</span></a><span style=\"color: #7f7f7f; text-decoration-color: #7f7f7f\">:</span><a href=\"file://C:\\Users\\Valerij\\anaconda3\\envs\\pol_sub\\Lib\\site-packages\\polaris\\utils\\context.py#53\" target=\"_blank\"><span style=\"color: #7f7f7f; text-decoration-color: #7f7f7f\">53</span></a>\n",
       "</pre>\n"
      ],
      "text/plain": [
       "\u001b[2;36m[19:09:52]\u001b[0m\u001b[2;36m \u001b[0m\u001b[32m Success: Submitting competition predictions\u001b[0m                                               \u001b]8;id=646427;file://C:\\Users\\Valerij\\anaconda3\\envs\\pol_sub\\Lib\\site-packages\\polaris\\utils\\context.py\u001b\\\u001b[2mcontext.py\u001b[0m\u001b]8;;\u001b\\\u001b[2m:\u001b[0m\u001b]8;id=490345;file://C:\\Users\\Valerij\\anaconda3\\envs\\pol_sub\\Lib\\site-packages\\polaris\\utils\\context.py#53\u001b\\\u001b[2m53\u001b[0m\u001b]8;;\u001b\\\n"
      ]
     },
     "metadata": {},
     "output_type": "display_data"
    },
    {
     "data": {
      "text/html": [
       "<pre style=\"white-space:pre;overflow-x:auto;line-height:normal;font-family:Menlo,'DejaVu Sans Mono',consolas,'Courier New',monospace\"></pre>\n"
      ],
      "text/plain": []
     },
     "metadata": {},
     "output_type": "display_data"
    }
   ],
   "source": [
    "competition.submit_predictions(\n",
    "    predictions=y_pred,\n",
    "    prediction_name=\"preliminary_predictions_admet\",\n",
    "    prediction_owner=\"wolberlab\",\n",
    "    report_url=\"https://github.com/talagayev/polaris_antiviral_challenge/blob/main/ADMET_MPNN/report.md\", \n",
    "    # The below metadata is optional, but recommended.\n",
    "    github_url=\"https://github.com/talagayev/polaris_antiviral_challenge\",\n",
    "    contributors=[\"talagayev\", \"ndoering99\", \"sijie-liu97\"],\n",
    "    description=\"Preliminary predictions for admet predictions with adjusted values for MDR\",\n",
    "    tags=[\"antiviral_admet\"],\n",
    "    user_attributes={\"Framework\": \"Chemprop\", \"Method\": \"MPNN\"}\n",
    ")"
   ]
  },
  {
   "cell_type": "markdown",
   "id": "c515ba0e-1274-4ba1-b0ee-088b11d0983d",
   "metadata": {},
   "source": [
    "For the ASAP competition, we will only evaluate your latest submission. \n",
    "\n",
    "The results will only be disclosed after the competition ends."
   ]
  },
  {
   "cell_type": "markdown",
   "id": "24cb48a8-86f9-43e5-ad8b-74e039158387",
   "metadata": {},
   "source": [
    "The End."
   ]
  }
 ],
 "metadata": {
  "kernelspec": {
   "display_name": "Python 3 (ipykernel)",
   "language": "python",
   "name": "python3"
  },
  "language_info": {
   "codemirror_mode": {
    "name": "ipython",
    "version": 3
   },
   "file_extension": ".py",
   "mimetype": "text/x-python",
   "name": "python",
   "nbconvert_exporter": "python",
   "pygments_lexer": "ipython3",
   "version": "3.12.9"
  }
 },
 "nbformat": 4,
 "nbformat_minor": 5
}
