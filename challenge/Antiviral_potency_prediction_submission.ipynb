{
 "cells": [
  {
   "cell_type": "markdown",
   "id": "f3e51057-9432-4574-9ee5-69760ecd806d",
   "metadata": {},
   "source": [
    "# Ligand ADMET and Potency (Property Prediction)\n",
    "\n",
    "The [ADMET](https://polarishub.io/competitions/asap-discovery/antiviral-admet-2025) and [Potency](https://polarishub.io/competitions/asap-discovery/antiviral-potency-2025) Challenge of the [ASAP Discovery competition](https://polarishub.io/blog/antiviral-competition) take the shape of a property prediction task. Given the SMILES (or, to be more precise, the CXSMILES) of a molecule, you are asked to predict the numerical properties of said molecule. This is a relatively straight-forward application of ML and this notebook will quickly get you up and running!\n",
    "\n",
    "To begin with, choose one of the two challenges! The code will look the same for both. "
   ]
  },
  {
   "cell_type": "code",
   "execution_count": 59,
   "id": "ba94f96e-10ba-46b6-8b1f-9fb333601b87",
   "metadata": {},
   "outputs": [],
   "source": [
    "import polaris as po\n",
    "from polaris.hub.client import PolarisHubClient\n",
    "import csv"
   ]
  },
  {
   "cell_type": "code",
   "execution_count": 60,
   "id": "4f8e964a-a1f5-4237-ab75-fdc318bb265f",
   "metadata": {},
   "outputs": [
    {
     "data": {
      "text/html": [
       "<pre style=\"white-space:pre;overflow-x:auto;line-height:normal;font-family:Menlo,'DejaVu Sans Mono',consolas,'Courier New',monospace\"><span style=\"color: #7fbfbf; text-decoration-color: #7fbfbf\">[2025-02-07 21:06:22] </span><span style=\"color: #000080; text-decoration-color: #000080\">INFO    </span> Your browser has been opened to visit:                        <a href=\"file://C:\\Users\\Valerij\\anaconda3\\envs\\pol_sub\\Lib\\site-packages\\polaris\\hub\\external_client.py\" target=\"_blank\"><span style=\"color: #7f7f7f; text-decoration-color: #7f7f7f\">external_client.py</span></a><span style=\"color: #7f7f7f; text-decoration-color: #7f7f7f\">:</span><a href=\"file://C:\\Users\\Valerij\\anaconda3\\envs\\pol_sub\\Lib\\site-packages\\polaris\\hub\\external_client.py#149\" target=\"_blank\"><span style=\"color: #7f7f7f; text-decoration-color: #7f7f7f\">149</span></a>\n",
       "<span style=\"color: #7fbfbf; text-decoration-color: #7fbfbf\">                      </span>         <span style=\"color: #0000ff; text-decoration-color: #0000ff; text-decoration: underline\">https://clerk.polarishub.io/oauth/authorize?response_type=cod</span> <span style=\"color: #7f7f7f; text-decoration-color: #7f7f7f\">                      </span>\n",
       "<span style=\"color: #7fbfbf; text-decoration-color: #7fbfbf\">                      </span>         <span style=\"color: #0000ff; text-decoration-color: #0000ff; text-decoration: underline\">e&amp;client_id=agQP2xVM6JqMHvGc&amp;redirect_uri=https%3A%2F%2Fpolar</span> <span style=\"color: #7f7f7f; text-decoration-color: #7f7f7f\">                      </span>\n",
       "<span style=\"color: #7fbfbf; text-decoration-color: #7fbfbf\">                      </span>         <span style=\"color: #0000ff; text-decoration-color: #0000ff; text-decoration: underline\">ishub.io%2Foauth2%2Fcallback&amp;scope=profile+email&amp;state=fAQPSN</span> <span style=\"color: #7f7f7f; text-decoration-color: #7f7f7f\">                      </span>\n",
       "<span style=\"color: #7fbfbf; text-decoration-color: #7fbfbf\">                      </span>         <span style=\"color: #0000ff; text-decoration-color: #0000ff; text-decoration: underline\">QOBCj316fn6rch7tcQM8swxI&amp;code_challenge=Zkyvs41xrHIpnEbdKD0Fx</span> <span style=\"color: #7f7f7f; text-decoration-color: #7f7f7f\">                      </span>\n",
       "<span style=\"color: #7fbfbf; text-decoration-color: #7fbfbf\">                      </span>         <span style=\"color: #0000ff; text-decoration-color: #0000ff; text-decoration: underline\">PhI2RWJhpP5lNEy6-qiKkM&amp;code_challenge_method=S256</span>             <span style=\"color: #7f7f7f; text-decoration-color: #7f7f7f\">                      </span>\n",
       "<span style=\"color: #7fbfbf; text-decoration-color: #7fbfbf\">                      </span>                                                                       <span style=\"color: #7f7f7f; text-decoration-color: #7f7f7f\">                      </span>\n",
       "</pre>\n"
      ],
      "text/plain": [
       "\u001b[2;36m[2025-02-07 21:06:22]\u001b[0m\u001b[2;36m \u001b[0m\u001b[34mINFO    \u001b[0m Your browser has been opened to visit:                        \u001b]8;id=588586;file://C:\\Users\\Valerij\\anaconda3\\envs\\pol_sub\\Lib\\site-packages\\polaris\\hub\\external_client.py\u001b\\\u001b[2mexternal_client.py\u001b[0m\u001b]8;;\u001b\\\u001b[2m:\u001b[0m\u001b]8;id=71975;file://C:\\Users\\Valerij\\anaconda3\\envs\\pol_sub\\Lib\\site-packages\\polaris\\hub\\external_client.py#149\u001b\\\u001b[2m149\u001b[0m\u001b]8;;\u001b\\\n",
       "\u001b[2;36m                      \u001b[0m         \u001b[4;94mhttps://clerk.polarishub.io/oauth/authorize?\u001b[0m\u001b[4;94mresponse_type\u001b[0m\u001b[4;94m=\u001b[0m\u001b[4;94mcod\u001b[0m \u001b[2m                      \u001b[0m\n",
       "\u001b[2;36m                      \u001b[0m         \u001b[4;94me\u001b[0m\u001b[4;94m&\u001b[0m\u001b[4;94mclient_id\u001b[0m\u001b[4;94m=\u001b[0m\u001b[4;94magQP2xVM6JqMHvGc\u001b[0m\u001b[4;94m&\u001b[0m\u001b[4;94mredirect_uri\u001b[0m\u001b[4;94m=\u001b[0m\u001b[4;94mhttps\u001b[0m\u001b[4;94m%3A%2F%2Fpolar\u001b[0m \u001b[2m                      \u001b[0m\n",
       "\u001b[2;36m                      \u001b[0m         \u001b[4;94mishub.io%2Foauth2%2Fcallback&\u001b[0m\u001b[4;94mscope\u001b[0m\u001b[4;94m=\u001b[0m\u001b[4;94mprofile\u001b[0m\u001b[4;94m+email&\u001b[0m\u001b[4;94mstate\u001b[0m\u001b[4;94m=\u001b[0m\u001b[4;94mfAQPSN\u001b[0m \u001b[2m                      \u001b[0m\n",
       "\u001b[2;36m                      \u001b[0m         \u001b[4;94mQOBCj316fn6rch7tcQM8swxI\u001b[0m\u001b[4;94m&\u001b[0m\u001b[4;94mcode_challenge\u001b[0m\u001b[4;94m=\u001b[0m\u001b[4;94mZkyvs41xrHIpnEbdKD0Fx\u001b[0m \u001b[2m                      \u001b[0m\n",
       "\u001b[2;36m                      \u001b[0m         \u001b[4;94mPhI2RWJhpP5lNEy6\u001b[0m\u001b[4;94m-qiKkM&\u001b[0m\u001b[4;94mcode_challenge_method\u001b[0m\u001b[4;94m=\u001b[0m\u001b[4;94mS256\u001b[0m             \u001b[2m                      \u001b[0m\n",
       "\u001b[2;36m                      \u001b[0m                                                                       \u001b[2m                      \u001b[0m\n"
      ]
     },
     "metadata": {},
     "output_type": "display_data"
    },
    {
     "name": "stdin",
     "output_type": "stream",
     "text": [
      "Please enter the authorization token:  Y2FMNWRMOTGTMWNKYS0ZYTMYLWI0MDKTODZMNTQZZJYWMDZH\n"
     ]
    },
    {
     "data": {
      "text/html": [
       "<pre style=\"white-space:pre;overflow-x:auto;line-height:normal;font-family:Menlo,'DejaVu Sans Mono',consolas,'Courier New',monospace\"><span style=\"color: #7fbfbf; text-decoration-color: #7fbfbf\">[2025-02-07 21:06:31] </span><span style=\"color: #000080; text-decoration-color: #000080\">INFO    </span> Successfully authenticated to the Polaris Hub as              <a href=\"file://C:\\Users\\Valerij\\anaconda3\\envs\\pol_sub\\Lib\\site-packages\\polaris\\hub\\external_client.py\" target=\"_blank\"><span style=\"color: #7f7f7f; text-decoration-color: #7f7f7f\">external_client.py</span></a><span style=\"color: #7f7f7f; text-decoration-color: #7f7f7f\">:</span><a href=\"file://C:\\Users\\Valerij\\anaconda3\\envs\\pol_sub\\Lib\\site-packages\\polaris\\hub\\external_client.py#160\" target=\"_blank\"><span style=\"color: #7f7f7f; text-decoration-color: #7f7f7f\">160</span></a>\n",
       "<span style=\"color: #7fbfbf; text-decoration-color: #7fbfbf\">                      </span>         `talagayv95@gmail.com`!                                       <span style=\"color: #7f7f7f; text-decoration-color: #7f7f7f\">                      </span>\n",
       "</pre>\n"
      ],
      "text/plain": [
       "\u001b[2;36m[2025-02-07 21:06:31]\u001b[0m\u001b[2;36m \u001b[0m\u001b[34mINFO    \u001b[0m Successfully authenticated to the Polaris Hub as              \u001b]8;id=742672;file://C:\\Users\\Valerij\\anaconda3\\envs\\pol_sub\\Lib\\site-packages\\polaris\\hub\\external_client.py\u001b\\\u001b[2mexternal_client.py\u001b[0m\u001b]8;;\u001b\\\u001b[2m:\u001b[0m\u001b]8;id=109718;file://C:\\Users\\Valerij\\anaconda3\\envs\\pol_sub\\Lib\\site-packages\\polaris\\hub\\external_client.py#160\u001b\\\u001b[2m160\u001b[0m\u001b]8;;\u001b\\\n",
       "\u001b[2;36m                      \u001b[0m         `talagayv95@gmail.com`!                                       \u001b[2m                      \u001b[0m\n"
      ]
     },
     "metadata": {},
     "output_type": "display_data"
    },
    {
     "data": {
      "text/html": [
       "<pre style=\"white-space:pre;overflow-x:auto;line-height:normal;font-family:Menlo,'DejaVu Sans Mono',consolas,'Courier New',monospace\"><span style=\"color: #7fbfbf; text-decoration-color: #7fbfbf\">                      </span><span style=\"color: #000080; text-decoration-color: #000080\">INFO    </span> You are successfully logged in to the Polaris Hub.                     <a href=\"file://C:\\Users\\Valerij\\anaconda3\\envs\\pol_sub\\Lib\\site-packages\\polaris\\hub\\client.py\" target=\"_blank\"><span style=\"color: #7f7f7f; text-decoration-color: #7f7f7f\">client.py</span></a><span style=\"color: #7f7f7f; text-decoration-color: #7f7f7f\">:</span><a href=\"file://C:\\Users\\Valerij\\anaconda3\\envs\\pol_sub\\Lib\\site-packages\\polaris\\hub\\client.py#252\" target=\"_blank\"><span style=\"color: #7f7f7f; text-decoration-color: #7f7f7f\">252</span></a>\n",
       "</pre>\n"
      ],
      "text/plain": [
       "\u001b[2;36m                     \u001b[0m\u001b[2;36m \u001b[0m\u001b[34mINFO    \u001b[0m You are successfully logged in to the Polaris Hub.                     \u001b]8;id=522697;file://C:\\Users\\Valerij\\anaconda3\\envs\\pol_sub\\Lib\\site-packages\\polaris\\hub\\client.py\u001b\\\u001b[2mclient.py\u001b[0m\u001b]8;;\u001b\\\u001b[2m:\u001b[0m\u001b]8;id=773429;file://C:\\Users\\Valerij\\anaconda3\\envs\\pol_sub\\Lib\\site-packages\\polaris\\hub\\client.py#252\u001b\\\u001b[2m252\u001b[0m\u001b]8;;\u001b\\\n"
      ]
     },
     "metadata": {},
     "output_type": "display_data"
    }
   ],
   "source": [
    "client = PolarisHubClient()\n",
    "client.login(overwrite=True)"
   ]
  },
  {
   "cell_type": "code",
   "execution_count": 61,
   "id": "c1e1f5a4-d7b4-41cc-a5fc-a657ca5fd6cf",
   "metadata": {},
   "outputs": [],
   "source": [
    "CHALLENGE = \"antiviral-potency-2025\"  # or: \"antiviral-potency-2025\""
   ]
  },
  {
   "cell_type": "markdown",
   "id": "2319bfb8-1fef-4294-a8f6-a225b7a95c09",
   "metadata": {},
   "source": [
    "## Load the competition\n",
    "\n",
    "Let's first load the competition from Polaris.\n",
    "\n",
    "Make sure you are logged in! If not, simply run `polaris login` and follow the instructions. "
   ]
  },
  {
   "cell_type": "code",
   "execution_count": 62,
   "id": "0a466c50-5408-4f72-840c-b467ca5f0f3f",
   "metadata": {},
   "outputs": [
    {
     "data": {
      "text/html": [
       "<pre style=\"white-space:pre;overflow-x:auto;line-height:normal;font-family:Menlo,'DejaVu Sans Mono',consolas,'Courier New',monospace\"><span style=\"color: #7fbfbf; text-decoration-color: #7fbfbf\">[2025-02-07 21:06:36] </span><span style=\"color: #000080; text-decoration-color: #000080\">INFO    </span> The version of Polaris that was used to create the artifact <span style=\"font-weight: bold\">(</span><span style=\"color: #008080; text-decoration-color: #008080; font-weight: bold\">0.11</span>.<span style=\"color: #008080; text-decoration-color: #008080; font-weight: bold\">0</span><span style=\"font-weight: bold\">)</span> <a href=\"file://C:\\Users\\Valerij\\anaconda3\\envs\\pol_sub\\Lib\\site-packages\\polaris\\_artifact.py\" target=\"_blank\"><span style=\"color: #7f7f7f; text-decoration-color: #7f7f7f\">_artifact.py</span></a><span style=\"color: #7f7f7f; text-decoration-color: #7f7f7f\">:</span><a href=\"file://C:\\Users\\Valerij\\anaconda3\\envs\\pol_sub\\Lib\\site-packages\\polaris\\_artifact.py#92\" target=\"_blank\"><span style=\"color: #7f7f7f; text-decoration-color: #7f7f7f\">92</span></a>\n",
       "<span style=\"color: #7fbfbf; text-decoration-color: #7fbfbf\">                      </span>         is different from the currently installed version of Polaris         <span style=\"color: #7f7f7f; text-decoration-color: #7f7f7f\">               </span>\n",
       "<span style=\"color: #7fbfbf; text-decoration-color: #7fbfbf\">                      </span>         <span style=\"font-weight: bold\">(</span><span style=\"color: #008080; text-decoration-color: #008080; font-weight: bold\">0.11</span>.<span style=\"color: #008080; text-decoration-color: #008080; font-weight: bold\">7</span><span style=\"font-weight: bold\">)</span>.                                                            <span style=\"color: #7f7f7f; text-decoration-color: #7f7f7f\">               </span>\n",
       "</pre>\n"
      ],
      "text/plain": [
       "\u001b[2;36m[2025-02-07 21:06:36]\u001b[0m\u001b[2;36m \u001b[0m\u001b[34mINFO    \u001b[0m The version of Polaris that was used to create the artifact \u001b[1m(\u001b[0m\u001b[1;36m0.11\u001b[0m.\u001b[1;36m0\u001b[0m\u001b[1m)\u001b[0m \u001b]8;id=252074;file://C:\\Users\\Valerij\\anaconda3\\envs\\pol_sub\\Lib\\site-packages\\polaris\\_artifact.py\u001b\\\u001b[2m_artifact.py\u001b[0m\u001b]8;;\u001b\\\u001b[2m:\u001b[0m\u001b]8;id=658986;file://C:\\Users\\Valerij\\anaconda3\\envs\\pol_sub\\Lib\\site-packages\\polaris\\_artifact.py#92\u001b\\\u001b[2m92\u001b[0m\u001b]8;;\u001b\\\n",
       "\u001b[2;36m                      \u001b[0m         is different from the currently installed version of Polaris         \u001b[2m               \u001b[0m\n",
       "\u001b[2;36m                      \u001b[0m         \u001b[1m(\u001b[0m\u001b[1;36m0.11\u001b[0m.\u001b[1;36m7\u001b[0m\u001b[1m)\u001b[0m.                                                            \u001b[2m               \u001b[0m\n"
      ]
     },
     "metadata": {},
     "output_type": "display_data"
    },
    {
     "data": {
      "text/html": [
       "<pre style=\"white-space:pre;overflow-x:auto;line-height:normal;font-family:Menlo,'DejaVu Sans Mono',consolas,'Courier New',monospace\"><span style=\"color: #7fbfbf; text-decoration-color: #7fbfbf\">                      </span><span style=\"color: #808000; text-decoration-color: #808000\">WARNING </span> You're loading data from a remote location. If the dataset is small     <a href=\"file://C:\\Users\\Valerij\\anaconda3\\envs\\pol_sub\\Lib\\site-packages\\polaris\\dataset\\_base.py\" target=\"_blank\"><span style=\"color: #7f7f7f; text-decoration-color: #7f7f7f\">_base.py</span></a><span style=\"color: #7f7f7f; text-decoration-color: #7f7f7f\">:</span><a href=\"file://C:\\Users\\Valerij\\anaconda3\\envs\\pol_sub\\Lib\\site-packages\\polaris\\dataset\\_base.py#182\" target=\"_blank\"><span style=\"color: #7f7f7f; text-decoration-color: #7f7f7f\">182</span></a>\n",
       "<span style=\"color: #7fbfbf; text-decoration-color: #7fbfbf\">                      </span>         enough, consider caching the dataset first using                        <span style=\"color: #7f7f7f; text-decoration-color: #7f7f7f\">            </span>\n",
       "<span style=\"color: #7fbfbf; text-decoration-color: #7fbfbf\">                      </span>         <span style=\"color: #800080; text-decoration-color: #800080; font-weight: bold\">CompetitionSpecification.cache</span><span style=\"font-weight: bold\">()</span> for more performant data access.       <span style=\"color: #7f7f7f; text-decoration-color: #7f7f7f\">            </span>\n",
       "</pre>\n"
      ],
      "text/plain": [
       "\u001b[2;36m                     \u001b[0m\u001b[2;36m \u001b[0m\u001b[33mWARNING \u001b[0m You're loading data from a remote location. If the dataset is small     \u001b]8;id=666300;file://C:\\Users\\Valerij\\anaconda3\\envs\\pol_sub\\Lib\\site-packages\\polaris\\dataset\\_base.py\u001b\\\u001b[2m_base.py\u001b[0m\u001b]8;;\u001b\\\u001b[2m:\u001b[0m\u001b]8;id=154721;file://C:\\Users\\Valerij\\anaconda3\\envs\\pol_sub\\Lib\\site-packages\\polaris\\dataset\\_base.py#182\u001b\\\u001b[2m182\u001b[0m\u001b]8;;\u001b\\\n",
       "\u001b[2;36m                      \u001b[0m         enough, consider caching the dataset first using                        \u001b[2m            \u001b[0m\n",
       "\u001b[2;36m                      \u001b[0m         \u001b[1;35mCompetitionSpecification.cache\u001b[0m\u001b[1m(\u001b[0m\u001b[1m)\u001b[0m for more performant data access.       \u001b[2m            \u001b[0m\n"
      ]
     },
     "metadata": {},
     "output_type": "display_data"
    }
   ],
   "source": [
    "import polaris as po\n",
    "\n",
    "competition = po.load_competition(f\"asap-discovery/{CHALLENGE}\")"
   ]
  },
  {
   "cell_type": "markdown",
   "id": "5478ab20-ed4b-4f7d-a5bb-3618748de65a",
   "metadata": {},
   "source": [
    "As suggested in the logs, we'll cache the dataset. Note that this is not strictly necessary, but it does speed up later steps."
   ]
  },
  {
   "cell_type": "code",
   "execution_count": 63,
   "id": "d44d7a37-2119-42cd-a7eb-41daf5687660",
   "metadata": {},
   "outputs": [
    {
     "data": {
      "text/html": [
       "<pre style=\"white-space:pre;overflow-x:auto;line-height:normal;font-family:Menlo,'DejaVu Sans Mono',consolas,'Courier New',monospace\">C:\\Users\\Valerij\\anaconda3\\envs\\pol_sub\\Lib\\site-packages\\rich\\live.py:231: UserWarning: install \"ipywidgets\" for \n",
       "Jupyter support\n",
       "  warnings.warn('install \"ipywidgets\" for Jupyter support')\n",
       "</pre>\n"
      ],
      "text/plain": [
       "C:\\Users\\Valerij\\anaconda3\\envs\\pol_sub\\Lib\\site-packages\\rich\\live.py:231: UserWarning: install \"ipywidgets\" for \n",
       "Jupyter support\n",
       "  warnings.warn('install \"ipywidgets\" for Jupyter support')\n"
      ]
     },
     "metadata": {},
     "output_type": "display_data"
    },
    {
     "data": {
      "text/html": [
       "<pre style=\"white-space:pre;overflow-x:auto;line-height:normal;font-family:Menlo,'DejaVu Sans Mono',consolas,'Courier New',monospace\"><span style=\"color: #7fbfbf; text-decoration-color: #7fbfbf\">[21:06:38] </span><span style=\"color: #008000; text-decoration-color: #008000\">Copying to destination </span>                                                                     <a href=\"file://C:\\Users\\Valerij\\anaconda3\\envs\\pol_sub\\Lib\\site-packages\\polaris\\dataset\\_base.py\" target=\"_blank\"><span style=\"color: #7f7f7f; text-decoration-color: #7f7f7f\">_base.py</span></a><span style=\"color: #7f7f7f; text-decoration-color: #7f7f7f\">:</span><a href=\"file://C:\\Users\\Valerij\\anaconda3\\envs\\pol_sub\\Lib\\site-packages\\polaris\\dataset\\_base.py#381\" target=\"_blank\"><span style=\"color: #7f7f7f; text-decoration-color: #7f7f7f\">381</span></a>\n",
       "<span style=\"color: #7fbfbf; text-decoration-color: #7fbfbf\">           </span><span style=\"color: #008000; text-decoration-color: #008000\">C:\\Users\\Valerij\\AppData\\Local\\polaris\\polaris\\Cache\\datasets\\</span><span style=\"color: #008000; text-decoration-color: #008000\">efb7d419-4565-46e3-9c5e-368f0</span> <span style=\"color: #7f7f7f; text-decoration-color: #7f7f7f\">            </span>\n",
       "<span style=\"color: #7fbfbf; text-decoration-color: #7fbfbf\">           </span><span style=\"color: #008000; text-decoration-color: #008000\">52c1b2c</span><span style=\"color: #008000; text-decoration-color: #008000\">\\data.zarr</span>                                                                           <span style=\"color: #7f7f7f; text-decoration-color: #7f7f7f\">            </span>\n",
       "</pre>\n"
      ],
      "text/plain": [
       "\u001b[2;36m[21:06:38]\u001b[0m\u001b[2;36m \u001b[0m\u001b[32mCopying to destination \u001b[0m                                                                     \u001b]8;id=682881;file://C:\\Users\\Valerij\\anaconda3\\envs\\pol_sub\\Lib\\site-packages\\polaris\\dataset\\_base.py\u001b\\\u001b[2m_base.py\u001b[0m\u001b]8;;\u001b\\\u001b[2m:\u001b[0m\u001b]8;id=993067;file://C:\\Users\\Valerij\\anaconda3\\envs\\pol_sub\\Lib\\site-packages\\polaris\\dataset\\_base.py#381\u001b\\\u001b[2m381\u001b[0m\u001b]8;;\u001b\\\n",
       "\u001b[2;36m           \u001b[0m\u001b[32mC:\\Users\\Valerij\\AppData\\Local\\polaris\\polaris\\Cache\\datasets\\\u001b[0m\u001b[32mefb7d419-4565-46e3-9c5e-368f0\u001b[0m \u001b[2m            \u001b[0m\n",
       "\u001b[2;36m           \u001b[0m\u001b[32m52c1b2c\u001b[0m\u001b[32m\\data.zarr\u001b[0m                                                                           \u001b[2m            \u001b[0m\n"
      ]
     },
     "metadata": {},
     "output_type": "display_data"
    },
    {
     "data": {
      "text/html": [
       "<pre style=\"white-space:pre;overflow-x:auto;line-height:normal;font-family:Menlo,'DejaVu Sans Mono',consolas,'Courier New',monospace\"><span style=\"color: #7fbfbf; text-decoration-color: #7fbfbf\">           </span><span style=\"color: #808000; text-decoration-color: #808000\">For large Zarr archives, this may take a while.</span>                                             <a href=\"file://C:\\Users\\Valerij\\anaconda3\\envs\\pol_sub\\Lib\\site-packages\\polaris\\dataset\\_base.py\" target=\"_blank\"><span style=\"color: #7f7f7f; text-decoration-color: #7f7f7f\">_base.py</span></a><span style=\"color: #7f7f7f; text-decoration-color: #7f7f7f\">:</span><a href=\"file://C:\\Users\\Valerij\\anaconda3\\envs\\pol_sub\\Lib\\site-packages\\polaris\\dataset\\_base.py#382\" target=\"_blank\"><span style=\"color: #7f7f7f; text-decoration-color: #7f7f7f\">382</span></a>\n",
       "</pre>\n"
      ],
      "text/plain": [
       "\u001b[2;36m          \u001b[0m\u001b[2;36m \u001b[0m\u001b[33mFor large Zarr archives, this may take a while.\u001b[0m                                             \u001b]8;id=905794;file://C:\\Users\\Valerij\\anaconda3\\envs\\pol_sub\\Lib\\site-packages\\polaris\\dataset\\_base.py\u001b\\\u001b[2m_base.py\u001b[0m\u001b]8;;\u001b\\\u001b[2m:\u001b[0m\u001b]8;id=271116;file://C:\\Users\\Valerij\\anaconda3\\envs\\pol_sub\\Lib\\site-packages\\polaris\\dataset\\_base.py#382\u001b\\\u001b[2m382\u001b[0m\u001b]8;;\u001b\\\n"
      ]
     },
     "metadata": {},
     "output_type": "display_data"
    },
    {
     "data": {
      "text/html": [
       "<pre style=\"white-space:pre;overflow-x:auto;line-height:normal;font-family:Menlo,'DejaVu Sans Mono',consolas,'Courier New',monospace\"><span style=\"color: #7fbfbf; text-decoration-color: #7fbfbf\">[21:06:40] </span><span style=\"color: #008000; text-decoration-color: #008000\"> Success: Copying Zarr keys</span>                                                                <a href=\"file://C:\\Users\\Valerij\\anaconda3\\envs\\pol_sub\\Lib\\site-packages\\polaris\\utils\\context.py\" target=\"_blank\"><span style=\"color: #7f7f7f; text-decoration-color: #7f7f7f\">context.py</span></a><span style=\"color: #7f7f7f; text-decoration-color: #7f7f7f\">:</span><a href=\"file://C:\\Users\\Valerij\\anaconda3\\envs\\pol_sub\\Lib\\site-packages\\polaris\\utils\\context.py#53\" target=\"_blank\"><span style=\"color: #7f7f7f; text-decoration-color: #7f7f7f\">53</span></a>\n",
       "</pre>\n"
      ],
      "text/plain": [
       "\u001b[2;36m[21:06:40]\u001b[0m\u001b[2;36m \u001b[0m\u001b[32m Success: Copying Zarr keys\u001b[0m                                                                \u001b]8;id=848176;file://C:\\Users\\Valerij\\anaconda3\\envs\\pol_sub\\Lib\\site-packages\\polaris\\utils\\context.py\u001b\\\u001b[2mcontext.py\u001b[0m\u001b]8;;\u001b\\\u001b[2m:\u001b[0m\u001b]8;id=299722;file://C:\\Users\\Valerij\\anaconda3\\envs\\pol_sub\\Lib\\site-packages\\polaris\\utils\\context.py#53\u001b\\\u001b[2m53\u001b[0m\u001b]8;;\u001b\\\n"
      ]
     },
     "metadata": {},
     "output_type": "display_data"
    },
    {
     "data": {
      "text/html": [
       "<pre style=\"white-space:pre;overflow-x:auto;line-height:normal;font-family:Menlo,'DejaVu Sans Mono',consolas,'Courier New',monospace\"><span style=\"color: #7fbfbf; text-decoration-color: #7fbfbf\">           </span><span style=\"color: #008000; text-decoration-color: #008000\"> Success: Copying Zarr archive</span>                                                             <a href=\"file://C:\\Users\\Valerij\\anaconda3\\envs\\pol_sub\\Lib\\site-packages\\polaris\\utils\\context.py\" target=\"_blank\"><span style=\"color: #7f7f7f; text-decoration-color: #7f7f7f\">context.py</span></a><span style=\"color: #7f7f7f; text-decoration-color: #7f7f7f\">:</span><a href=\"file://C:\\Users\\Valerij\\anaconda3\\envs\\pol_sub\\Lib\\site-packages\\polaris\\utils\\context.py#53\" target=\"_blank\"><span style=\"color: #7f7f7f; text-decoration-color: #7f7f7f\">53</span></a>\n",
       "</pre>\n"
      ],
      "text/plain": [
       "\u001b[2;36m          \u001b[0m\u001b[2;36m \u001b[0m\u001b[32m Success: Copying Zarr archive\u001b[0m                                                             \u001b]8;id=828999;file://C:\\Users\\Valerij\\anaconda3\\envs\\pol_sub\\Lib\\site-packages\\polaris\\utils\\context.py\u001b\\\u001b[2mcontext.py\u001b[0m\u001b]8;;\u001b\\\u001b[2m:\u001b[0m\u001b]8;id=1035;file://C:\\Users\\Valerij\\anaconda3\\envs\\pol_sub\\Lib\\site-packages\\polaris\\utils\\context.py#53\u001b\\\u001b[2m53\u001b[0m\u001b]8;;\u001b\\\n"
      ]
     },
     "metadata": {},
     "output_type": "display_data"
    },
    {
     "data": {
      "text/html": [
       "<pre style=\"white-space:pre;overflow-x:auto;line-height:normal;font-family:Menlo,'DejaVu Sans Mono',consolas,'Courier New',monospace\"></pre>\n"
      ],
      "text/plain": []
     },
     "metadata": {},
     "output_type": "display_data"
    },
    {
     "data": {
      "text/plain": [
       "'C:\\\\Users\\\\Valerij\\\\AppData\\\\Local\\\\polaris\\\\polaris\\\\Cache\\\\datasets\\\\efb7d419-4565-46e3-9c5e-368f052c1b2c'"
      ]
     },
     "execution_count": 63,
     "metadata": {},
     "output_type": "execute_result"
    }
   ],
   "source": [
    "competition.cache()"
   ]
  },
  {
   "cell_type": "markdown",
   "id": "a2455a1a-ef57-4e04-9d0c-47553c5e8059",
   "metadata": {},
   "source": [
    "Let's get the train and test set and take a look at the data structure."
   ]
  },
  {
   "cell_type": "code",
   "execution_count": 64,
   "id": "46c34cf4-31fd-4de1-8b18-0694a2a25d29",
   "metadata": {},
   "outputs": [],
   "source": [
    "train, test = competition.get_train_test_split()"
   ]
  },
  {
   "cell_type": "code",
   "execution_count": 65,
   "id": "dfa8d6c9-7274-4a30-937a-08e7a87974ce",
   "metadata": {},
   "outputs": [
    {
     "data": {
      "text/plain": [
       "('COC[C@]1(C)C(=O)N(C2=CN=CC3=CC=CC=C23)C(=O)N1C |&1:3|',\n",
       " {'pIC50 (SARS-CoV-2 Mpro)': nan, 'pIC50 (MERS-CoV Mpro)': 4.19})"
      ]
     },
     "execution_count": 65,
     "metadata": {},
     "output_type": "execute_result"
    }
   ],
   "source": [
    "train[0]"
   ]
  },
  {
   "cell_type": "code",
   "execution_count": 66,
   "id": "f9847194-922d-4068-9d12-228ed4ef3f32",
   "metadata": {},
   "outputs": [
    {
     "name": "stdout",
     "output_type": "stream",
     "text": [
      "<polaris.dataset._subset.Subset object at 0x0000018E49321310>\n"
     ]
    }
   ],
   "source": [
    "print(test)"
   ]
  },
  {
   "cell_type": "code",
   "execution_count": 67,
   "id": "ec22ca4b-395b-407f-93e6-2879a6d18004",
   "metadata": {},
   "outputs": [
    {
     "data": {
      "text/plain": [
       "'C=CC(=O)NC1=CC=CC(N(CC2=CC=CC(Cl)=C2)C(=O)CC2=CN=CC3=CC=CC=C23)=C1'"
      ]
     },
     "execution_count": 67,
     "metadata": {},
     "output_type": "execute_result"
    }
   ],
   "source": [
    "test[0]"
   ]
  },
  {
   "cell_type": "code",
   "execution_count": 68,
   "id": "edb945d3-c7f5-4e7e-b1af-f3cceb1fcba3",
   "metadata": {},
   "outputs": [],
   "source": [
    "import pandas as pd\n",
    "\n",
    "\n",
    "df = pd.read_csv(\"antiviral_potency_predictions.csv\")"
   ]
  },
  {
   "cell_type": "code",
   "execution_count": 69,
   "id": "3e92136b-aea5-40bc-8756-8556dbf74287",
   "metadata": {},
   "outputs": [
    {
     "data": {
      "text/plain": [
       "{'pIC50 (MERS-CoV Mpro)', 'pIC50 (SARS-CoV-2 Mpro)'}"
      ]
     },
     "execution_count": 69,
     "metadata": {},
     "output_type": "execute_result"
    }
   ],
   "source": [
    "competition.target_cols"
   ]
  },
  {
   "cell_type": "code",
   "execution_count": 71,
   "id": "b67756d2-3569-4375-8de2-86f597b755be",
   "metadata": {},
   "outputs": [
    {
     "data": {
      "text/plain": [
       "['pIC50 (SARS-CoV-2 Mpro)', 'pIC50 (MERS-CoV Mpro)']"
      ]
     },
     "execution_count": 71,
     "metadata": {},
     "output_type": "execute_result"
    }
   ],
   "source": [
    "test.target_cols"
   ]
  },
  {
   "cell_type": "markdown",
   "id": "ae44540f-ff75-475b-8e23-1a7d2134cdcf",
   "metadata": {},
   "source": [
    "An interesting idea would be to build a multi-task model to leverage shared information across tasks.\n",
    "\n",
    "For the sake of simplicity, however, we'll simply build a model per target here. "
   ]
  },
  {
   "cell_type": "code",
   "execution_count": 72,
   "id": "6dc85903-c956-4418-ac9c-78303ad76cbe",
   "metadata": {},
   "outputs": [
    {
     "name": "stdout",
     "output_type": "stream",
     "text": [
      "pIC50 (SARS-CoV-2 Mpro)\n",
      "pIC50 (MERS-CoV Mpro)\n"
     ]
    }
   ],
   "source": [
    "for tgt in competition.target_cols:\n",
    "    print(tgt)"
   ]
  },
  {
   "cell_type": "code",
   "execution_count": 73,
   "id": "cba74454-705f-433a-b379-bf3a056d90a2",
   "metadata": {
    "scrolled": true
   },
   "outputs": [
    {
     "name": "stdout",
     "output_type": "stream",
     "text": [
      "{'pIC50 (SARS-CoV-2 Mpro)': array([4.998152 , 6.4788966, 6.154323 , 5.56294  , 6.448747 , 5.786942 ,\n",
      "       6.59913  , 6.523    , 6.9219804, 6.752878 , 5.310632 , 6.873755 ,\n",
      "       6.6700926, 6.773039 , 6.737562 , 6.9006963, 5.913432 , 7.914843 ,\n",
      "       5.068144 , 5.843102 , 6.6370654, 7.5604467, 7.2796364, 7.5419817,\n",
      "       7.0544   , 7.0192175, 7.014563 , 7.183071 , 7.0353374, 5.71912  ,\n",
      "       6.875616 , 6.3911   , 6.9578123, 7.1379786, 7.326183 , 6.811537 ,\n",
      "       6.890592 , 6.5498195, 6.6710677, 6.593392 , 7.5051484, 6.603576 ,\n",
      "       5.811787 , 5.811787 , 5.783166 , 5.783166 , 6.0969253, 6.0969253,\n",
      "       6.0915294, 6.0915294, 7.366119 , 6.2627287, 7.21359  , 7.72874  ,\n",
      "       6.788585 , 6.857119 , 7.1523147, 6.7849426, 6.561892 , 6.2457457,\n",
      "       7.0791087, 6.4471498, 6.6739626, 6.7536106, 6.377071 , 6.725445 ,\n",
      "       7.3301826, 7.373387 , 6.907482 , 6.7339535, 6.9242744, 7.8320756,\n",
      "       7.6756783, 6.7000484, 7.04303  , 6.910475 , 6.691128 , 6.740461 ,\n",
      "       7.6852226, 6.3612514, 6.417686 , 6.5163097, 7.369806 , 7.4633455,\n",
      "       7.1877794, 6.8585753, 6.5053473, 7.4548173, 6.5713043, 7.0361543,\n",
      "       7.5691347, 7.764633 , 7.5691347, 7.411179 , 6.3963075, 7.1920123,\n",
      "       7.1920123, 7.8536854, 7.412426 , 7.9831867, 7.5265546, 7.824518 ,\n",
      "       7.411179 , 7.412426 , 7.0572853, 7.478943 , 7.277124 , 7.1758757,\n",
      "       7.338834 , 7.194727 , 6.3074512, 7.196776 , 6.3244395, 7.7749805,\n",
      "       6.5906525, 7.412426 , 6.267968 , 5.8958845, 5.823879 , 6.5204144,\n",
      "       6.5204144, 6.9318624, 6.384756 , 7.326781 , 6.06321  , 6.5204144,\n",
      "       6.055509 , 6.600267 , 2.9408567, 3.3519428, 7.113532 , 5.3870497,\n",
      "       4.3082466, 4.472369 , 4.5743785, 4.447232 , 4.7422895, 4.804356 ,\n",
      "       4.44829  , 5.258662 , 4.6898537, 5.263271 , 4.628431 , 5.6113906,\n",
      "       5.3655324, 4.618147 , 4.6570807, 4.234357 , 4.7059164, 4.478331 ,\n",
      "       5.80848  , 5.6937428, 5.6937428, 5.358772 , 4.776478 , 4.425176 ,\n",
      "       5.3692584, 4.422222 , 6.3709626, 6.3709626, 4.543231 , 4.5652065,\n",
      "       4.872399 , 5.1600976, 5.162984 , 4.8194714, 4.628431 , 4.3305306,\n",
      "       4.4367676, 4.5582075, 5.1977344, 5.1270757, 5.8020153, 4.9288573,\n",
      "       7.516768 , 5.211287 , 4.820108 , 7.127132 , 4.960683 , 7.5285926,\n",
      "       4.8658724, 5.024746 , 7.585516 , 5.6839495, 8.0412445, 8.09948  ,\n",
      "       4.6114182, 5.0817213, 5.7554693, 4.9943767, 4.910003 , 5.419523 ,\n",
      "       5.014811 , 5.9191475, 6.151917 , 5.9910536, 5.1008077, 5.904148 ,\n",
      "       4.608049 , 6.0589857, 6.0589857, 5.70375  , 5.554496 , 4.166827 ,\n",
      "       4.205246 , 4.736505 , 4.3327236, 4.7502785, 4.736505 , 4.867716 ,\n",
      "       5.4571223, 4.538072 , 4.8945503, 4.8945503, 4.4023404, 4.4023404,\n",
      "       4.597829 , 4.597829 , 5.3961535, 4.4775796, 4.4775796, 4.8051047,\n",
      "       4.8051047, 4.3327236, 4.350248 , 5.0171437, 5.7101054, 5.7101054,\n",
      "       5.0934105, 4.607884 , 4.607884 , 4.7177434, 4.7177434, 5.3681583,\n",
      "       4.6064043, 5.026824 , 4.45513  , 4.45513  , 5.0126295, 4.344709 ,\n",
      "       5.0845594, 4.3552155, 4.3552155, 5.2258925, 4.8450084, 5.3917146,\n",
      "       4.8004446, 3.997399 , 4.410282 , 4.223652 , 5.90397  , 5.1183457,\n",
      "       5.1183457, 4.822721 , 4.7658534, 5.5938015, 5.3374963, 5.3961535,\n",
      "       5.0171437, 5.729961 , 4.452136 , 4.8906484, 4.748056 , 4.1332064,\n",
      "       5.542553 , 4.617643 , 5.299366 , 5.299366 , 4.952888 , 4.9996657,\n",
      "       5.5641575, 5.159281 , 5.1124163, 4.8308964, 4.6847763, 4.9076095,\n",
      "       4.6475086, 4.244444 , 4.244444 , 4.244444 , 4.244444 , 4.4389   ,\n",
      "       4.620995 , 4.23527  , 5.628826 , 4.620995 , 4.84338  , 4.84338  ,\n",
      "       4.3975334, 4.0914555, 4.6188226, 4.6188226, 4.6188226, 4.6188226,\n",
      "       4.84338  , 5.8457613, 5.8457613]), 'pIC50 (MERS-CoV Mpro)': array([5.320606 , 5.2716703, 5.059407 , 5.1448517, 5.284195 , 5.2422705,\n",
      "       5.368682 , 5.3890457, 5.09416  , 5.0523124, 5.008095 , 5.4924116,\n",
      "       5.317238 , 5.3535748, 5.489856 , 5.3856745, 5.1945477, 4.9230795,\n",
      "       4.5703797, 5.1945477, 5.310707 , 5.5732174, 5.90456  , 5.951708 ,\n",
      "       4.988575 , 5.777872 , 5.2126884, 5.6973   , 5.5732174, 5.0983877,\n",
      "       5.310707 , 5.2226267, 5.569541 , 5.7737846, 5.7737846, 5.859026 ,\n",
      "       5.4277925, 5.4277925, 5.310707 , 5.0386257, 5.4612246, 6.0134506,\n",
      "       5.2927275, 5.2927275, 5.5598526, 5.5598526, 5.412199 , 5.412199 ,\n",
      "       5.3541775, 5.3541775, 5.570532 , 5.310707 , 5.586858 , 5.717229 ,\n",
      "       5.4824514, 5.656699 , 5.656699 , 5.3782187, 5.154785 , 5.310707 ,\n",
      "       5.636894 , 5.568618 , 5.568618 , 5.656699 , 5.310707 , 5.310707 ,\n",
      "       5.8662004, 5.8747177, 5.5087624, 5.689556 , 5.6969585, 5.932081 ,\n",
      "       5.8662004, 5.656699 , 5.322341 , 5.511917 , 5.7902985, 5.7984476,\n",
      "       5.656699 , 5.8204584, 5.5533333, 5.5153084, 6.170492 , 5.656699 ,\n",
      "       6.170492 , 6.1144114, 5.310707 , 5.8597145, 5.329629 , 5.310707 ,\n",
      "       5.777872 , 5.8662004, 5.777872 , 5.819627 , 5.3081512, 5.81073  ,\n",
      "       5.81073  , 5.8633804, 5.777872 , 5.7191763, 5.777872 , 5.722163 ,\n",
      "       5.819627 , 5.777872 , 5.6903343, 5.7040815, 5.82712  , 5.858508 ,\n",
      "       6.210511 , 5.159464 , 5.2929363, 6.1123486, 5.2422705, 5.932081 ,\n",
      "       5.2166834, 5.777872 , 5.2166834, 5.2166834, 5.148247 , 4.5954304,\n",
      "       4.5954304, 5.969017 , 5.148247 , 5.995263 , 5.148247 , 4.5954304,\n",
      "       5.2166834, 5.2166834, 4.69218  , 4.846346 , 5.858508 , 4.8939314,\n",
      "       5.074649 , 4.761406 , 4.372012 , 4.808857 , 4.9023666, 4.80898  ,\n",
      "       4.5442076, 4.4102573, 4.775042 , 4.4092307, 4.462623 , 4.952179 ,\n",
      "       5.127536 , 4.6680193, 4.9023666, 4.9013677, 4.462623 , 4.3791895,\n",
      "       5.30056  , 4.8447943, 4.8447943, 4.9308953, 4.894613 , 4.936644 ,\n",
      "       5.114984 , 4.4130044, 5.1169605, 5.1169605, 4.462623 , 4.287398 ,\n",
      "       4.4563904, 4.514545 , 4.7014904, 4.81493  , 4.462623 , 4.598121 ,\n",
      "       4.8791246, 4.764301 , 5.1833744, 4.736542 , 4.7995963, 4.639909 ,\n",
      "       6.1021833, 4.663885 , 4.5040636, 6.099784 , 4.584469 , 6.181488 ,\n",
      "       4.686024 , 4.936644 , 6.2049227, 4.511265 , 6.132676 , 6.2354155,\n",
      "       4.7717447, 4.6545105, 5.036561 , 4.5309515, 4.437344 , 4.560497 ,\n",
      "       4.353427 , 4.7147365, 5.0744343, 4.7623076, 4.96094  , 4.6688447,\n",
      "       4.662233 , 5.137554 , 5.137554 , 4.7117896, 4.6879983, 4.4249716,\n",
      "       4.5875573, 4.72059  , 4.491992 , 4.5525494, 4.72059  , 4.685781 ,\n",
      "       4.9795446, 4.537063 , 4.7474356, 4.7474356, 4.210187 , 4.210187 ,\n",
      "       4.6013193, 4.6013193, 4.9672966, 4.598905 , 4.598905 , 4.795403 ,\n",
      "       4.795403 , 4.491992 , 4.3602347, 4.5604734, 4.883171 , 4.883171 ,\n",
      "       4.717496 , 4.885735 , 4.885735 , 4.7076464, 4.7076464, 4.6885495,\n",
      "       4.7441974, 4.834374 , 4.8066473, 4.8066473, 4.835931 , 4.480832 ,\n",
      "       4.5871286, 4.6804814, 4.6804814, 4.5366178, 4.7556086, 5.014467 ,\n",
      "       4.8342733, 4.525578 , 4.680826 , 4.555725 , 4.9001956, 4.922795 ,\n",
      "       4.922795 , 4.81493  , 4.4441743, 4.841322 , 4.8619003, 4.9672966,\n",
      "       4.5604734, 4.4746227, 4.462974 , 4.4292645, 4.7282076, 4.6118264,\n",
      "       4.8006296, 4.99917  , 4.6403127, 4.6403127, 4.5070257, 4.6245437,\n",
      "       4.547695 , 4.5387697, 4.7893066, 4.581808 , 4.56289  , 4.644384 ,\n",
      "       4.3093224, 4.5347176, 4.5347176, 4.5347176, 4.5347176, 4.7274   ,\n",
      "       4.738805 , 4.8023715, 4.8049493, 4.738805 , 4.288304 , 4.288304 ,\n",
      "       4.7282195, 4.555725 , 4.442723 , 4.442723 , 4.442723 , 4.442723 ,\n",
      "       4.288304 , 5.0867825, 5.0867825])}\n"
     ]
    }
   ],
   "source": [
    "y_pred = {}\n",
    "\n",
    "for tgt in competition.target_cols:\n",
    "    if tgt == \"pIC50 (SARS-CoV-2 Mpro)\":\n",
    "        y_pred[tgt] = df[\"SARS\"].values  # Assign SARS values\n",
    "    elif tgt == \"pIC50 (MERS-CoV Mpro)\":\n",
    "        y_pred[tgt] = df[\"MERS\"].values  # Assign MERS values\n",
    "\n",
    "# Check the output\n",
    "print(y_pred)\n"
   ]
  },
  {
   "cell_type": "markdown",
   "id": "820563e3-e372-4fdc-b038-259d24c5e0d8",
   "metadata": {},
   "source": [
    "## Submit your predictions\n",
    "Submitting your predictions to the competition is simple."
   ]
  },
  {
   "cell_type": "code",
   "execution_count": 77,
   "id": "4b1f4ead-0be2-44bd-84f9-608700589229",
   "metadata": {},
   "outputs": [
    {
     "data": {
      "text/html": [
       "<pre style=\"white-space:pre;overflow-x:auto;line-height:normal;font-family:Menlo,'DejaVu Sans Mono',consolas,'Courier New',monospace\"><span style=\"color: #7fbfbf; text-decoration-color: #7fbfbf\">[23:13:04] </span><span style=\"color: #008000; text-decoration-color: #008000\"> Success: Submitting competition predictions</span>                                               <a href=\"file://C:\\Users\\Valerij\\anaconda3\\envs\\pol_sub\\Lib\\site-packages\\polaris\\utils\\context.py\" target=\"_blank\"><span style=\"color: #7f7f7f; text-decoration-color: #7f7f7f\">context.py</span></a><span style=\"color: #7f7f7f; text-decoration-color: #7f7f7f\">:</span><a href=\"file://C:\\Users\\Valerij\\anaconda3\\envs\\pol_sub\\Lib\\site-packages\\polaris\\utils\\context.py#53\" target=\"_blank\"><span style=\"color: #7f7f7f; text-decoration-color: #7f7f7f\">53</span></a>\n",
       "</pre>\n"
      ],
      "text/plain": [
       "\u001b[2;36m[23:13:04]\u001b[0m\u001b[2;36m \u001b[0m\u001b[32m Success: Submitting competition predictions\u001b[0m                                               \u001b]8;id=994753;file://C:\\Users\\Valerij\\anaconda3\\envs\\pol_sub\\Lib\\site-packages\\polaris\\utils\\context.py\u001b\\\u001b[2mcontext.py\u001b[0m\u001b]8;;\u001b\\\u001b[2m:\u001b[0m\u001b]8;id=97888;file://C:\\Users\\Valerij\\anaconda3\\envs\\pol_sub\\Lib\\site-packages\\polaris\\utils\\context.py#53\u001b\\\u001b[2m53\u001b[0m\u001b]8;;\u001b\\\n"
      ]
     },
     "metadata": {},
     "output_type": "display_data"
    },
    {
     "data": {
      "text/html": [
       "<pre style=\"white-space:pre;overflow-x:auto;line-height:normal;font-family:Menlo,'DejaVu Sans Mono',consolas,'Courier New',monospace\"></pre>\n"
      ],
      "text/plain": []
     },
     "metadata": {},
     "output_type": "display_data"
    }
   ],
   "source": [
    "competition.submit_predictions(\n",
    "    predictions=y_pred,\n",
    "    prediction_name=\"preliminary_predictions\",\n",
    "    prediction_owner=\"wolberlab\",\n",
    "    report_url=\"https://github.com/talagayev/polaris_antiviral_challenge/blob/main/Preliminary_prediction_protocol.md\", \n",
    "    # The below metadata is optional, but recommended.\n",
    "    github_url=\"https://github.com/talagayev/polaris_antiviral_challenge\",\n",
    "    contributors=[\"talagayev\", \"ndoering99\", \"sijie-liu97\"],\n",
    "    description=\"Preliminary predictions for the potency\",\n",
    "    tags=[\"antiviral_potency\"],\n",
    "    user_attributes={\"Framework\": \"Scikit-learn, Pytorch\", \"Method\": \"XGBoost, BNN\"}\n",
    ")"
   ]
  },
  {
   "cell_type": "markdown",
   "id": "c515ba0e-1274-4ba1-b0ee-088b11d0983d",
   "metadata": {},
   "source": [
    "For the ASAP competition, we will only evaluate your latest submission. \n",
    "\n",
    "The results will only be disclosed after the competition ends."
   ]
  },
  {
   "cell_type": "markdown",
   "id": "24cb48a8-86f9-43e5-ad8b-74e039158387",
   "metadata": {},
   "source": [
    "The End."
   ]
  }
 ],
 "metadata": {
  "kernelspec": {
   "display_name": "Python 3 (ipykernel)",
   "language": "python",
   "name": "python3"
  },
  "language_info": {
   "codemirror_mode": {
    "name": "ipython",
    "version": 3
   },
   "file_extension": ".py",
   "mimetype": "text/x-python",
   "name": "python",
   "nbconvert_exporter": "python",
   "pygments_lexer": "ipython3",
   "version": "3.12.9"
  }
 },
 "nbformat": 4,
 "nbformat_minor": 5
}
